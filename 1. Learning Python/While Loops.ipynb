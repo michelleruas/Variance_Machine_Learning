{
 "cells": [
  {
   "cell_type": "markdown",
   "metadata": {},
   "source": [
    "# While Loops\n",
    "For loops are an example of \"definite iteration\" meaning that the loop's body is run a predefined number of times. This differs from \"indefinite iteration\" which is when a loop repeats an unknown number of times and ends when some condition is met, which is what happens in a while loop. Here's an example of a while loop."
   ]
  },
  {
   "cell_type": "code",
   "execution_count": 1,
   "metadata": {},
   "outputs": [],
   "source": [
    "card_deck = [4, 11, 8, 5, 13, 2, 8, 10]\n",
    "hand = []\n",
    "\n",
    "# adds the last element of the card_deck list to the hand list\n",
    "# until the values in hand add up to 17 or more\n",
    "while sum(hand)  < 17:\n",
    "    hand.append(card_deck.pop())"
   ]
  },
  {
   "cell_type": "markdown",
   "metadata": {},
   "source": [
    "Components of a While Loop\n",
    "The first line starts with the while keyword, indicating this is a while loop.\n",
    "Following that is a condition to be checked. In this example, that's sum(hand) <= 17.\n",
    "The while loop heading always ends with a colon :.\n",
    "Indented after this heading is the body of the while loop. If the condition for the while loop is true, the code lines in the loop's body will be executed.\n",
    "We then go back to the while heading line, and the condition is evaluated again. This process of checking the condition and then executing the loop repeats until the condition becomes false.\n",
    "When the condition becomes false, we move on to the line following the body of the loop, which will be unindented.\n",
    "The indented body of the loop should modify at least one variable in the test condition. If the value of the test condition never changes, the result is an infinite loop!"
   ]
  },
  {
   "cell_type": "code",
   "execution_count": 3,
   "metadata": {},
   "outputs": [
    {
     "name": "stdout",
     "output_type": "stream",
     "text": [
      "720\n"
     ]
    }
   ],
   "source": [
    "# number to find the factorial of\n",
    "number = 6   \n",
    "\n",
    "# start with our product equal to one\n",
    "product = 1\n",
    "\n",
    "# track the current number being multiplied\n",
    "current = 1\n",
    "\n",
    "# write your while loop here\n",
    "while current <= number:\n",
    "    product = current * product\n",
    "    current = current + 1\n",
    "\n",
    "    # multiply the product so far by the current number\n",
    "    \n",
    "    # increment current with each iteration until it reaches number\n",
    "\n",
    "# print the factorial of number\n",
    "print(product)"
   ]
  },
  {
   "cell_type": "code",
   "execution_count": 4,
   "metadata": {},
   "outputs": [
    {
     "name": "stdout",
     "output_type": "stream",
     "text": [
      "720\n"
     ]
    }
   ],
   "source": [
    "\n",
    "# number we'll find the factorial of\n",
    "number = 6\n",
    "# start with our product equal to one\n",
    "product = 1\n",
    "\n",
    "# calculate factorial of number with a for loop\n",
    "for num in range(2, number + 1):\n",
    "    product *= num\n",
    "\n",
    "# print the factorial of number\n",
    "print(product)"
   ]
  },
  {
   "cell_type": "code",
   "execution_count": 5,
   "metadata": {},
   "outputs": [
    {
     "name": "stdout",
     "output_type": "stream",
     "text": [
      "21\n"
     ]
    }
   ],
   "source": [
    "start_num = 4 #provide some start number\n",
    "end_num = 20 #provide some end number that you stop when you hit\n",
    "count_by = 2 #provide some number to count by \n",
    "break_num = end_num + 1\n",
    "not_reached = True\n",
    "\n",
    "# write a while loop that uses break_num as the ongoing number to \n",
    "#   check against end_num\n",
    "while not_reached:\n",
    "    start_num = start_num + count_by\n",
    "    if break_num > end_num:\n",
    "        not_reached = False\n",
    "\n",
    "print(break_num)"
   ]
  },
  {
   "cell_type": "code",
   "execution_count": 6,
   "metadata": {},
   "outputs": [
    {
     "name": "stdout",
     "output_type": "stream",
     "text": [
      "101\n"
     ]
    }
   ],
   "source": [
    "start_num = 5\n",
    "end_num = 100\n",
    "count_by = 2\n",
    "\n",
    "break_num = start_num\n",
    "while break_num < end_num:\n",
    "    break_num += count_by\n",
    "\n",
    "print(break_num)"
   ]
  },
  {
   "cell_type": "code",
   "execution_count": 7,
   "metadata": {},
   "outputs": [
    {
     "name": "stdout",
     "output_type": "stream",
     "text": [
      "101\n"
     ]
    }
   ],
   "source": [
    "\n",
    "start_num = 5\n",
    "end_num = 100\n",
    "count_by = 2\n",
    "\n",
    "break_num = start_num\n",
    "while break_num < end_num:\n",
    "    break_num += count_by\n",
    "\n",
    "print(break_num)"
   ]
  },
  {
   "cell_type": "code",
   "execution_count": null,
   "metadata": {},
   "outputs": [],
   "source": []
  }
 ],
 "metadata": {
  "kernelspec": {
   "display_name": "Python 3",
   "language": "python",
   "name": "python3"
  },
  "language_info": {
   "codemirror_mode": {
    "name": "ipython",
    "version": 3
   },
   "file_extension": ".py",
   "mimetype": "text/x-python",
   "name": "python",
   "nbconvert_exporter": "python",
   "pygments_lexer": "ipython3",
   "version": "3.7.1"
  }
 },
 "nbformat": 4,
 "nbformat_minor": 2
}
