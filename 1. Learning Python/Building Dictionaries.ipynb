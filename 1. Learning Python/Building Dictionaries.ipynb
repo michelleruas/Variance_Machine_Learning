{
 "cells": [
  {
   "cell_type": "markdown",
   "metadata": {},
   "source": [
    "# Building Dictionaries\n",
    "By now you are familiar with two important concepts: 1) counting with for loops and 2) the dictionary get method. These two can actually be combined to create a useful counter dictionary, something you will likely come across again. For example, we can create a dictionary, word_counter, that keeps track of the total count of each word in a string.\n",
    "\n",
    "The following are a couple of ways to do it:\n",
    "\n",
    "Method 1: Using a for loop to create a set of counters\n",
    "Let's start with a list containing the words in a series of book titles:"
   ]
  },
  {
   "cell_type": "code",
   "execution_count": 1,
   "metadata": {},
   "outputs": [],
   "source": [
    "book_title =  ['great', 'expectations','the', 'adventures', 'of', 'sherlock','holmes','the','great','gasby','hamlet','adventures','of','huckleberry','fin']"
   ]
  },
  {
   "cell_type": "code",
   "execution_count": 2,
   "metadata": {},
   "outputs": [],
   "source": [
    "word_counter = {}"
   ]
  },
  {
   "cell_type": "code",
   "execution_count": 3,
   "metadata": {},
   "outputs": [],
   "source": [
    "for word in book_title:\n",
    "    if word not in word_counter:\n",
    "        word_counter[word] = 1\n",
    "    else:\n",
    "        word_counter[word] += 1"
   ]
  },
  {
   "cell_type": "markdown",
   "metadata": {},
   "source": [
    "## What's happening here?\n",
    "The for loop iterates through each element in the list. For the first iteration, word takes the value 'great'.\n",
    "Next, the if statement checks if word is in the word_counter dictionary.\n",
    "Since it doesn't yet, the statement word_counter[word] = 1 adds great as a key to the dictionary with a value of 1.\n",
    "Then, it leaves the if else statement and moves on to the next iteration of the for loop. word now takes the value expectations and repeats the process.\n",
    "When the if condition is not met, it is because thatword already exists in the word_counter dictionary, and the statement word_counter[word] = word_counter[word] + 1 increases the count of that word by 1.\n",
    "Once the for loop finishes iterating through the list, the for loop is complete.\n",
    "We can see the output by printing out the dictionary. Printing word_counter results in the following output."
   ]
  },
  {
   "cell_type": "code",
   "execution_count": 5,
   "metadata": {},
   "outputs": [
    {
     "name": "stdout",
     "output_type": "stream",
     "text": [
      "{'great': 2, 'expectations': 1, 'the': 2, 'adventures': 2, 'of': 2, 'sherlock': 1, 'holmes': 1, 'gasby': 1, 'hamlet': 1, 'huckleberry': 1, 'fin': 1}\n"
     ]
    }
   ],
   "source": [
    "print(word_counter)"
   ]
  },
  {
   "cell_type": "markdown",
   "metadata": {},
   "source": [
    "## Method 2: Using the get method"
   ]
  },
  {
   "cell_type": "code",
   "execution_count": 6,
   "metadata": {},
   "outputs": [],
   "source": [
    "book_title =  ['great', 'expectations','the', 'adventures', 'of', 'sherlock','holmes','the','great','gasby','hamlet','adventures','of','huckleberry','fin']\n",
    "word_counter = {}\n",
    "for word in book_title:\n",
    "    word_counter[word] = word_counter.get(word, 0) + 1"
   ]
  },
  {
   "cell_type": "markdown",
   "metadata": {},
   "source": [
    "Iterating Through Dictionaries with For Loops\n",
    "When you iterate through a dictionary using a for loop, doing it the normal way (for n in some_dict) will only give you access to the keys in the dictionary - which is what you'd want in some situations. In other cases, you'd want to iterate through both the keys and values in the dictionary. Let's see how this is done in an example. Consider this dictionary that uses names of actors as keys and their characters as values."
   ]
  },
  {
   "cell_type": "code",
   "execution_count": 8,
   "metadata": {},
   "outputs": [
    {
     "name": "stdout",
     "output_type": "stream",
     "text": [
      "Jerry Seinfeld\n",
      "Julia Louis-Dreyfus\n",
      "Jason Alexander\n",
      "Michael Richards\n"
     ]
    }
   ],
   "source": [
    "cast = {\n",
    "           \"Jerry Seinfeld\": \"Jerry Seinfeld\",\n",
    "           \"Julia Louis-Dreyfus\": \"Elaine Benes\",\n",
    "           \"Jason Alexander\": \"George Costanza\",\n",
    "           \"Michael Richards\": \"Cosmo Kramer\"\n",
    "       }\n",
    "\n",
    "for key in cast:\n",
    "    print(key)"
   ]
  },
  {
   "cell_type": "code",
   "execution_count": 9,
   "metadata": {},
   "outputs": [
    {
     "name": "stdout",
     "output_type": "stream",
     "text": [
      "Actor: Jerry Seinfeld    Role: Jerry Seinfeld\n",
      "Actor: Julia Louis-Dreyfus    Role: Elaine Benes\n",
      "Actor: Jason Alexander    Role: George Costanza\n",
      "Actor: Michael Richards    Role: Cosmo Kramer\n"
     ]
    }
   ],
   "source": [
    "for key, value in cast.items():\n",
    "    print(\"Actor: {}    Role: {}\".format(key, value))"
   ]
  },
  {
   "cell_type": "code",
   "execution_count": 10,
   "metadata": {},
   "outputs": [
    {
     "name": "stdout",
     "output_type": "stream",
     "text": [
      "0\n"
     ]
    }
   ],
   "source": [
    "# You would like to count the number of fruits in your basket. \n",
    "# In order to do this, you have the following dictionary and list of\n",
    "# fruits.  Use the dictionary and list to count the total number\n",
    "# of fruits, but you do not want to count the other items in your basket.\n",
    "\n",
    "result = 0\n",
    "basket_items = {'apples': 4, 'oranges': 19, 'kites': 3, 'sandwiches': 8}\n",
    "fruits = ['apples', 'oranges', 'pears', 'peaches', 'grapes', 'bananas']\n",
    "\n",
    "#Iterate through the dictionary\n",
    "\n",
    "for word in basket_items:\n",
    "    word_counter[word] = word_counter.get(word, 0) + 1\n",
    "\n",
    "#if the key is in the list of fruits, add the value (number of fruits) to result\n",
    "\n",
    "\n",
    "print(result)"
   ]
  },
  {
   "cell_type": "code",
   "execution_count": 11,
   "metadata": {},
   "outputs": [
    {
     "name": "stdout",
     "output_type": "stream",
     "text": [
      "23\n"
     ]
    }
   ],
   "source": [
    "# You would like to count the number of fruits in your basket. \n",
    "# In order to do this, you have the following dictionary and list of\n",
    "# fruits.  Use the dictionary and list to count the total number\n",
    "# of fruits, but you do not want to count the other items in your basket.\n",
    "\n",
    "result = 0\n",
    "basket_items = {'apples': 4, 'oranges': 19, 'kites': 3, 'sandwiches': 8}\n",
    "fruits = ['apples', 'oranges', 'pears', 'peaches', 'grapes', 'bananas']\n",
    "\n",
    "#Iterate through the dictionary\n",
    "for key, value in basket_items.items():\n",
    "    if key in fruits:\n",
    "        result = result + value\n",
    "\n",
    "#if the key is in the list of fruits, add the value (number of fruits) to result\n",
    "\n",
    "\n",
    "print(result)"
   ]
  },
  {
   "cell_type": "code",
   "execution_count": 12,
   "metadata": {},
   "outputs": [
    {
     "name": "stdout",
     "output_type": "stream",
     "text": [
      "28\n",
      "9\n",
      "4\n"
     ]
    }
   ],
   "source": [
    "#Example 1\n",
    "\n",
    "result = 0\n",
    "basket_items = {'pears': 5, 'grapes': 19, 'kites': 3, 'sandwiches': 8, 'bananas': 4}\n",
    "fruits = ['apples', 'oranges', 'pears', 'peaches', 'grapes', 'bananas']\n",
    "\n",
    "# Your previous solution here\n",
    "for key, value in basket_items.items():\n",
    "    if key in fruits:\n",
    "        result = result + value\n",
    "\n",
    "print(result)\n",
    "\n",
    "#Example 2\n",
    "\n",
    "result = 0\n",
    "basket_items = {'peaches': 5, 'lettuce': 2, 'kites': 3, 'sandwiches': 8, 'pears': 4}\n",
    "fruits = ['apples', 'oranges', 'pears', 'peaches', 'grapes', 'bananas']\n",
    "\n",
    "# Your previous solution here\n",
    "for key, value in basket_items.items():\n",
    "    if key in fruits:\n",
    "        result = result + value\n",
    "\n",
    "print(result)\n",
    "\n",
    "\n",
    "#Example 3\n",
    "\n",
    "result = 0\n",
    "basket_items = {'lettuce': 2, 'kites': 3, 'sandwiches': 8, 'pears': 4, 'bears': 10}\n",
    "fruits = ['apples', 'oranges', 'pears', 'peaches', 'grapes', 'bananas']\n",
    "\n",
    "# Your previous solution here\n",
    "for key, value in basket_items.items():\n",
    "    if key in fruits:\n",
    "        result = result + value\n",
    "\n",
    "print(result)\n"
   ]
  },
  {
   "cell_type": "code",
   "execution_count": 13,
   "metadata": {},
   "outputs": [
    {
     "name": "stdout",
     "output_type": "stream",
     "text": [
      "23 11\n"
     ]
    }
   ],
   "source": [
    "# You would like to count the number of fruits in your basket. \n",
    "# In order to do this, you have the following dictionary and list of\n",
    "# fruits.  Use the dictionary and list to count the total number\n",
    "# of fruits and not_fruits.\n",
    "\n",
    "fruit_count, not_fruit_count = 0, 0\n",
    "basket_items = {'apples': 4, 'oranges': 19, 'kites': 3, 'sandwiches': 8}\n",
    "fruits = ['apples', 'oranges', 'pears', 'peaches', 'grapes', 'bananas']\n",
    "\n",
    "#Iterate through the dictionary\n",
    "\n",
    "#if the key is in the list of fruits, add to fruit_count.\n",
    "\n",
    "#if the key is not in the list, then add to the not_fruit_count\n",
    "\n",
    "for key, value in basket_items.items():\n",
    "    if key in fruits:\n",
    "        fruit_count = fruit_count + value\n",
    "    else:\n",
    "        not_fruit_count = not_fruit_count + value\n",
    "\n",
    "\n",
    "print(fruit_count, not_fruit_count)"
   ]
  },
  {
   "cell_type": "code",
   "execution_count": 14,
   "metadata": {},
   "outputs": [
    {
     "name": "stdout",
     "output_type": "stream",
     "text": [
      "The number of fruits is 23.  There are 11 objects that are not fruits.\n"
     ]
    }
   ],
   "source": [
    "fruit_count, not_fruit_count = 0, 0\n",
    "basket_items = {'apples': 4, 'oranges': 19, 'kites': 3, 'sandwiches': 8}\n",
    "fruits = ['apples', 'oranges', 'pears', 'peaches', 'grapes', 'bananas']\n",
    "\n",
    "#Iterate through the dictionary\n",
    "for object, count in basket_items.items():\n",
    "    if object in fruits:\n",
    "       fruit_count += count\n",
    "    else:\n",
    "        not_fruit_count += count\n",
    "\n",
    "print(\"The number of fruits is {}.  There are {} objects that are not fruits.\".format(fruit_count, not_fruit_count))"
   ]
  },
  {
   "cell_type": "code",
   "execution_count": null,
   "metadata": {},
   "outputs": [],
   "source": []
  }
 ],
 "metadata": {
  "kernelspec": {
   "display_name": "Python 3",
   "language": "python",
   "name": "python3"
  },
  "language_info": {
   "codemirror_mode": {
    "name": "ipython",
    "version": 3
   },
   "file_extension": ".py",
   "mimetype": "text/x-python",
   "name": "python",
   "nbconvert_exporter": "python",
   "pygments_lexer": "ipython3",
   "version": "3.7.1"
  }
 },
 "nbformat": 4,
 "nbformat_minor": 2
}
