{
 "cells": [
  {
   "cell_type": "markdown",
   "metadata": {},
   "source": [
    "# Calculating Z-Score of Static Dataset"
   ]
  },
  {
   "cell_type": "markdown",
   "metadata": {},
   "source": [
    "## In order to build a model that will undertake unsupervised learning we need to :\n",
    "\n",
    "- Establish the metric it will use to classifies something as 'not normal'\n",
    "- Give it data to train the model"
   ]
  },
  {
   "cell_type": "code",
   "execution_count": 31,
   "metadata": {},
   "outputs": [],
   "source": [
    "import numpy as np\n",
    "import matplotlib.pyplot as plt\n",
    "%matplotlib inline\n",
    "\n",
    "\n",
    "variance_list = [0,1,2,100,2,0,0,5,100,40,23,1]\n",
    "dataset_length = len(variance_list)\n",
    "a = 0\n",
    "outliers = []"
   ]
  },
  {
   "cell_type": "markdown",
   "metadata": {},
   "source": [
    "## Criteria to classify something as not normal\n",
    "\n",
    "An outlier can be a data point that falls outside of 3 standard deviations. We can use the z-score and if the z score falls outside of 2 then it is not normal.\n",
    "Another feature could be the values it has been before."
   ]
  },
  {
   "cell_type": "code",
   "execution_count": 35,
   "metadata": {},
   "outputs": [
    {
     "name": "stdout",
     "output_type": "stream",
     "text": [
      "[0, 1]\n",
      "[1, 1]\n"
     ]
    },
    {
     "ename": "TypeError",
     "evalue": "change() missing 1 required positional argument: 'a'",
     "output_type": "error",
     "traceback": [
      "\u001b[0;31m---------------------------------------------------------------------------\u001b[0m",
      "\u001b[0;31mTypeError\u001b[0m                                 Traceback (most recent call last)",
      "\u001b[0;32m<ipython-input-35-9d5da4bb09d0>\u001b[0m in \u001b[0;36m<module>\u001b[0;34m\u001b[0m\n\u001b[1;32m      3\u001b[0m \u001b[0moutliers\u001b[0m \u001b[0;34m=\u001b[0m \u001b[0mdetect_outliers\u001b[0m\u001b[0;34m(\u001b[0m\u001b[0mfirst_two\u001b[0m\u001b[0;34m)\u001b[0m\u001b[0;34m\u001b[0m\u001b[0;34m\u001b[0m\u001b[0m\n\u001b[1;32m      4\u001b[0m \u001b[0mprint\u001b[0m\u001b[0;34m(\u001b[0m\u001b[0moutliers\u001b[0m\u001b[0;34m)\u001b[0m\u001b[0;34m\u001b[0m\u001b[0;34m\u001b[0m\u001b[0m\n\u001b[0;32m----> 5\u001b[0;31m \u001b[0mchange\u001b[0m\u001b[0;34m(\u001b[0m\u001b[0;34m)\u001b[0m\u001b[0;34m\u001b[0m\u001b[0;34m\u001b[0m\u001b[0m\n\u001b[0m\u001b[1;32m      6\u001b[0m \u001b[0mprint\u001b[0m\u001b[0;34m(\u001b[0m\u001b[0moutliers\u001b[0m\u001b[0;34m)\u001b[0m\u001b[0;34m\u001b[0m\u001b[0;34m\u001b[0m\u001b[0m\n\u001b[1;32m      7\u001b[0m \u001b[0mprint\u001b[0m\u001b[0;34m(\u001b[0m\u001b[0ma\u001b[0m\u001b[0;34m)\u001b[0m\u001b[0;34m\u001b[0m\u001b[0;34m\u001b[0m\u001b[0m\n",
      "\u001b[0;31mTypeError\u001b[0m: change() missing 1 required positional argument: 'a'"
     ]
    }
   ],
   "source": [
    "first_two = variance_list[0:2]\n",
    "print(first_two)\n",
    "outliers = detect_outliers(first_two)\n",
    "print(outliers)\n",
    "change()\n",
    "print(outliers)\n",
    "print(a)\n",
    "\n",
    "def detect_outliers(data):\n",
    "    threshold = a\n",
    "    mean = np.mean(data)\n",
    "    std = np.std(data)   \n",
    "    for i in data:\n",
    "        z_score = (i - mean)/std\n",
    "        if np.abs(z_score) < threshold:\n",
    "            outliers.append(0)\n",
    "        elif np.abs(z_score) > threshold:\n",
    "            outliers.append(1)\n",
    "    return a, outliers\n",
    "\n",
    "def change():\n",
    "    while sum(outliers) >= 1:\n",
    "        a = a + 0.0001\n",
    "        outliers = detect_outliers(outliers)\n"
   ]
  },
  {
   "cell_type": "code",
   "execution_count": 26,
   "metadata": {},
   "outputs": [],
   "source": [
    "def change(data):\n",
    "    while sum(data) >= 1:\n",
    "        a = a + 0.0001\n",
    "        data = detect_outliers(data)"
   ]
  },
  {
   "cell_type": "markdown",
   "metadata": {},
   "source": [
    "## Detecting Z score\n",
    "\n",
    "Formula z= (observation-mean)/standard_deviation\n",
    "\n",
    "X= (X-μ)/σ"
   ]
  },
  {
   "cell_type": "code",
   "execution_count": 8,
   "metadata": {},
   "outputs": [
    {
     "name": "stdout",
     "output_type": "stream",
     "text": [
      "[0]\n"
     ]
    }
   ],
   "source": [
    "new_value = [72]\n",
    "new_set = dataset + new_value\n",
    "print(dataset)\n",
    "\n",
    "\n",
    "def detect_outliers(data):\n",
    "    \n",
    "    outliers = []\n",
    "    threshold = a\n",
    "    mean = np.mean(data)\n",
    "    std = np.std(data)\n",
    "    \n",
    "    for i in data:\n",
    "        z_score = (i - mean)/std\n",
    "        if np.abs(z_score) < threshold:\n",
    "            outliers.append(0)\n",
    "        elif np.abs(z_score) > threshold:\n",
    "            outliers.append(1)\n",
    "    return outliers\n"
   ]
  },
  {
   "cell_type": "code",
   "execution_count": 308,
   "metadata": {},
   "outputs": [
    {
     "name": "stdout",
     "output_type": "stream",
     "text": [
      "[]\n"
     ]
    },
    {
     "name": "stderr",
     "output_type": "stream",
     "text": [
      "/opt/anaconda3/lib/python3.7/site-packages/ipykernel_launcher.py:14: RuntimeWarning: invalid value encountered in double_scalars\n",
      "  \n"
     ]
    }
   ],
   "source": [
    "outlier_pt = detect_outliers(dataset)\n",
    "print(outlier_pt)"
   ]
  },
  {
   "cell_type": "code",
   "execution_count": 13,
   "metadata": {},
   "outputs": [
    {
     "name": "stdout",
     "output_type": "stream",
     "text": [
      "[]\n",
      "[]\n",
      "0\n"
     ]
    },
    {
     "name": "stderr",
     "output_type": "stream",
     "text": [
      "/opt/anaconda3/lib/python3.7/site-packages/ipykernel_launcher.py:14: RuntimeWarning: invalid value encountered in double_scalars\n",
      "  \n"
     ]
    }
   ],
   "source": [
    "outlier_pt = detect_outliers(dataset)\n",
    "print(outlier_pt)\n",
    "while sum(outlier_pt) >= 1:\n",
    "    a = a + 0.0001\n",
    "    outlier_pt = detect_outliers(dataset)\n",
    "\n",
    "print(outlier_pt)\n",
    "print(a)"
   ]
  },
  {
   "cell_type": "code",
   "execution_count": 310,
   "metadata": {},
   "outputs": [
    {
     "name": "stdout",
     "output_type": "stream",
     "text": [
      "[1, 1]\n",
      "[0, 0]\n",
      "1.0000999999999063\n",
      "[0, 72]\n"
     ]
    }
   ],
   "source": [
    "dataset = new_set\n",
    "outlier_new = detect_outliers(new_set)\n",
    "print(outlier_new)\n",
    "while sum(outlier_new) >= 1:\n",
    "    a = a + 0.0001\n",
    "    outlier_new = detect_outliers(dataset)\n",
    "\n",
    "print(outlier_new)\n",
    "print(a)\n",
    "print(dataset)"
   ]
  }
 ],
 "metadata": {
  "kernelspec": {
   "display_name": "Python 3",
   "language": "python",
   "name": "python3"
  },
  "language_info": {
   "codemirror_mode": {
    "name": "ipython",
    "version": 3
   },
   "file_extension": ".py",
   "mimetype": "text/x-python",
   "name": "python",
   "nbconvert_exporter": "python",
   "pygments_lexer": "ipython3",
   "version": "3.7.6"
  }
 },
 "nbformat": 4,
 "nbformat_minor": 4
}
