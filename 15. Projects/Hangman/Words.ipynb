{
 "cells": [
  {
   "cell_type": "code",
   "execution_count": 1,
   "metadata": {},
   "outputs": [],
   "source": [
    "word_list = [\n",
    "    \"wares\",\n",
    "    \"soup\",\n",
    "    \"mount\",\n",
    "    \"extend\",\n",
    "    \"brown\",\n",
    "    \"expert\",\n",
    "    \"tired\",\n",
    "    \"humimdity\",\n",
    "    \"backpack\",\n",
    "    \"crust\",\n",
    "    \"dent\",\n",
    "    \"market\"\n",
    "]"
   ]
  },
  {
   "cell_type": "code",
   "execution_count": null,
   "metadata": {},
   "outputs": [],
   "source": []
  }
 ],
 "metadata": {
  "kernelspec": {
   "display_name": "Python 3",
   "language": "python",
   "name": "python3"
  },
  "language_info": {
   "codemirror_mode": {
    "name": "ipython",
    "version": 3
   },
   "file_extension": ".py",
   "mimetype": "text/x-python",
   "name": "python",
   "nbconvert_exporter": "python",
   "pygments_lexer": "ipython3",
   "version": "3.7.1"
  }
 },
 "nbformat": 4,
 "nbformat_minor": 2
}
