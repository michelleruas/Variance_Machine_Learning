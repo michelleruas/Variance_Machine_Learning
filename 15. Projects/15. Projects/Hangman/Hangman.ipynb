{
 "cells": [
  {
   "cell_type": "code",
   "execution_count": 24,
   "metadata": {},
   "outputs": [],
   "source": [
    "import random\n",
    "word_list = [\n",
    "    \"wares\",\n",
    "    \"soup\",\n",
    "    \"mount\",\n",
    "    \"extend\",\n",
    "    \"brown\",\n",
    "    \"expert\",\n",
    "    \"tired\",\n",
    "    \"humimdity\",\n",
    "    \"backpack\",\n",
    "    \"crust\",\n",
    "    \"dent\",\n",
    "    \"market\"\n",
    "]"
   ]
  },
  {
   "cell_type": "code",
   "execution_count": 25,
   "metadata": {},
   "outputs": [],
   "source": [
    "def get_word():\n",
    "    word = random.choice(word_list)\n",
    "    return word.upper()"
   ]
  },
  {
   "cell_type": "code",
   "execution_count": 35,
   "metadata": {},
   "outputs": [
    {
     "ename": "SyntaxError",
     "evalue": "invalid syntax (<ipython-input-35-d961c7d91044>, line 14)",
     "output_type": "error",
     "traceback": [
      "\u001b[0;36m  File \u001b[0;32m\"<ipython-input-35-d961c7d91044>\"\u001b[0;36m, line \u001b[0;32m14\u001b[0m\n\u001b[0;31m    if len(guess) == 1 and guess.isalpha()\"\"\u001b[0m\n\u001b[0m                                           ^\u001b[0m\n\u001b[0;31mSyntaxError\u001b[0m\u001b[0;31m:\u001b[0m invalid syntax\n"
     ]
    }
   ],
   "source": [
    "def play(word):\n",
    "    word_completion = \"_\" * len(word)\n",
    "    guessed = False\n",
    "    guessed_letters = []\n",
    "    guessed_words = []\n",
    "    tries = 0\n",
    "    print(\"Lets play hangman!\")\n",
    "    print(display_hangman(tries))\n",
    "    print(word_completion)\n",
    "    print(\"\\n\")\n",
    "    \n",
    "    while not guessed and tries > 0:\n",
    "        guess= input(\"Please guess a letter or word: \").upper()\n",
    "        if len(guess) == 1 and guess.isalpha()\"\"\n",
    "            if guess in guessed_letters:\n",
    "                print(\"You have already guessed the letter\", guess)\n",
    "            elif guess not in word:\n",
    "                print(guess, \"is not in the word.\")\n",
    "                tries +=1\n",
    "                guess_letters.append(guess)\n",
    "            else:\n",
    "                print(\"Good job,\", guess, \"is the word.\")\n",
    "                guessed_letters.append(guess)\n",
    "        elif len(guess) == len(word) and guess.isalpha():\n",
    "        else:\n",
    "            print(\"Not a valid guess.\")\n",
    "        print(display_hangman(tries))\n",
    "        print(word_completion)\n",
    "        print(\"\\n\")"
   ]
  },
  {
   "cell_type": "code",
   "execution_count": 36,
   "metadata": {},
   "outputs": [],
   "source": [
    "def display_hangman(tries):\n",
    "    stages=[\"\"\"\n",
    "                --------------\n",
    "                |            |\n",
    "                |            O\n",
    "                |           \\|/\n",
    "                |            | \n",
    "                |           /\\\n",
    "                |\n",
    "                |\n",
    "                ---------------\n",
    "                \n",
    "                \"\"\",\n",
    "              \"\"\"\n",
    "                --------------\n",
    "                |            |\n",
    "                |            O\n",
    "                |           \\|/\n",
    "                |            | \n",
    "                |            \n",
    "                |\n",
    "                |\n",
    "                ---------------\n",
    "                \n",
    "                \"\"\",\n",
    "               \"\"\"\n",
    "                --------------\n",
    "                |            |\n",
    "                |            O\n",
    "                |           \\|/\n",
    "                |            \n",
    "                |            \n",
    "                |\n",
    "                |\n",
    "                ---------------\n",
    "                \n",
    "                \"\"\",\n",
    "               \"\"\"\n",
    "                --------------\n",
    "                |            |\n",
    "                |            O\n",
    "                |            |\n",
    "                |           \n",
    "                |            \n",
    "                |\n",
    "                |\n",
    "                ---------------\n",
    "                \n",
    "                \"\"\",\n",
    "               \"\"\"\n",
    "                --------------\n",
    "                |            |\n",
    "                |            O\n",
    "                |            \n",
    "                |            \n",
    "                |           \n",
    "                |\n",
    "                |\n",
    "                ---------------\n",
    "                \n",
    "                \"\"\",\n",
    "               \"\"\"\n",
    "                --------------\n",
    "                |            |\n",
    "                |            \n",
    "                |           \n",
    "                |             \n",
    "                |            \n",
    "                |\n",
    "                |\n",
    "                ---------------\n",
    "                \n",
    "                \"\"\",\n",
    "            ]\n",
    "    return stages[tries]"
   ]
  },
  {
   "cell_type": "code",
   "execution_count": 37,
   "metadata": {},
   "outputs": [
    {
     "name": "stdout",
     "output_type": "stream",
     "text": [
      "Lets play hangman!\n",
      "\n",
      "                --------------\n",
      "                |            |\n",
      "                |            O\n",
      "                |           \\|/\n",
      "                |            | \n",
      "                |            \n",
      "                |\n",
      "                |\n",
      "                ---------------\n",
      "                \n",
      "                \n",
      "___\n",
      "\n",
      "\n"
     ]
    }
   ],
   "source": [
    "play(\"cop\")"
   ]
  },
  {
   "cell_type": "code",
   "execution_count": 38,
   "metadata": {},
   "outputs": [
    {
     "name": "stdout",
     "output_type": "stream",
     "text": [
      "Lets play hangman!\n",
      "\n",
      "                --------------\n",
      "                |            |\n",
      "                |            O\n",
      "                |           \\|/\n",
      "                |            | \n",
      "                |            \n",
      "                |\n",
      "                |\n",
      "                ---------------\n",
      "                \n",
      "                \n",
      "___\n",
      "\n",
      "\n"
     ]
    }
   ],
   "source": [
    "play(\"cop\")"
   ]
  },
  {
   "cell_type": "code",
   "execution_count": null,
   "metadata": {},
   "outputs": [],
   "source": []
  }
 ],
 "metadata": {
  "kernelspec": {
   "display_name": "Python 3",
   "language": "python",
   "name": "python3"
  },
  "language_info": {
   "codemirror_mode": {
    "name": "ipython",
    "version": 3
   },
   "file_extension": ".py",
   "mimetype": "text/x-python",
   "name": "python",
   "nbconvert_exporter": "python",
   "pygments_lexer": "ipython3",
   "version": "3.7.1"
  }
 },
 "nbformat": 4,
 "nbformat_minor": 2
}
