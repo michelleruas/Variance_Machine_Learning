{
 "cells": [
  {
   "cell_type": "markdown",
   "metadata": {},
   "source": [
    "# My First Python Game :)"
   ]
  },
  {
   "cell_type": "markdown",
   "metadata": {},
   "source": [
    "## Things we need: \n",
    "- Board\n",
    "- Display Board\n",
    "- Play Game \n",
    "    - Alternating turns\n",
    "- Check win\n",
    "    - Check rows\n",
    "    - Check columns\n",
    "    - Check diagonals\n",
    "- Check tie\n",
    "- Flip player"
   ]
  },
  {
   "cell_type": "code",
   "execution_count": 1,
   "metadata": {},
   "outputs": [],
   "source": [
    "# -------Global variables--------------\n",
    "\n",
    "\n",
    "# Game board\n",
    "board = [\"-\",\"-\",\"-\",\n",
    "         \"-\",\"-\",\"-\",\n",
    "         \"-\",\"-\",\"-\",]\n",
    "\n",
    "game_still_going = True\n",
    "winnner = None\n",
    "current_player = \"X\"\n"
   ]
  },
  {
   "cell_type": "code",
   "execution_count": 2,
   "metadata": {},
   "outputs": [],
   "source": [
    "def display_board():\n",
    "    print(board[0]+ \" | \" +board[1]+ \" | \" + board[2])\n",
    "    print(board[3]+ \" | \" +board[4]+ \" | \" + board[5])\n",
    "    print(board[6]+ \" | \" +board[7]+ \" | \" + board[8])"
   ]
  },
  {
   "cell_type": "code",
   "execution_count": 3,
   "metadata": {},
   "outputs": [],
   "source": [
    "def handle_turn(player):\n",
    "    \n",
    "    print(player + \"'s turn.\")\n",
    "    position = input(\"Choose a position from 1-9: \")\n",
    "    \n",
    "    valid = False\n",
    "    while not valid:\n",
    "        \n",
    "        while position not in [\"1\",\"2\",\"3\",\"4\",\"5\",\"6\",\"7\",\"8\",\"9\"]:\n",
    "            position = input(\"Invalid input. Choose a position from 1-9: \")\n",
    "        \n",
    "        position = int(position) - 1\n",
    "        \n",
    "        if board[position] == \"-\" :\n",
    "            valid = True\n",
    "        else:\n",
    "            print(\"You can't go there. Go again\")\n",
    "        \n",
    "    \n",
    "   \n",
    "    board[position] = current_player\n",
    "    display_board()"
   ]
  },
  {
   "cell_type": "code",
   "execution_count": 4,
   "metadata": {},
   "outputs": [],
   "source": [
    "def check_if_game_over():\n",
    "    check_for_win()\n",
    "    check_for_tie()"
   ]
  },
  {
   "cell_type": "code",
   "execution_count": 5,
   "metadata": {},
   "outputs": [],
   "source": [
    "def check_for_win():\n",
    "    \n",
    "    #Set up global variables\n",
    "    global winner\n",
    "   \n",
    "    #Check rows\n",
    "    row_winner = check_rows()\n",
    "    \n",
    "    #Check columns\n",
    "    column_winner = check_columns()\n",
    "    \n",
    "    #Check diagonals\n",
    "    diagonal_winner = check_diagonals()\n",
    "    \n",
    "    if row_winner:\n",
    "        #win\n",
    "        winner = row_winner\n",
    "    elif column_winner:\n",
    "        #win\n",
    "        winner = column_winner\n",
    "    elif diagonal_winner:\n",
    "        #win\n",
    "        winner = diagonal_winner\n",
    "    else:\n",
    "        winner = None\n",
    "    return \n",
    "\n",
    "def check_rows():\n",
    "    global game_still_going\n",
    "    \n",
    "    row_1 = board[0] == board[1] == board[2] != \"-\"\n",
    "    row_2 = board[3] == board[4] == board[5] != \"-\"\n",
    "    row_3 = board[6] == board[7] == board[8] != \"-\"\n",
    "    \n",
    "    if row_1 or row_2 or row_3:\n",
    "        game_still_going = False\n",
    "        \n",
    "    if row_1:\n",
    "        return board[0]\n",
    "    elif row_2:\n",
    "        return board[3]\n",
    "    elif row_3:\n",
    "        return board[6]  \n",
    "    return\n",
    "\n",
    "def check_columns():\n",
    "    global game_still_going\n",
    "    column_1 = board[0] == board[3] == board[6] != \"-\"\n",
    "    column_2 = board[1] == board[4] == board[7] != \"-\"\n",
    "    column_3 = board[2] == board[5] == board[8] != \"-\"\n",
    "    \n",
    "    if column_1 or column_2 or column_3:\n",
    "        game_still_going = False\n",
    "        \n",
    "    if column_1:\n",
    "        return board[0]\n",
    "    elif column_2:\n",
    "        return board[1]\n",
    "    elif column_3:\n",
    "        return board[2]\n",
    "    return\n",
    "\n",
    "def check_diagonals():\n",
    "    global game_still_going\n",
    "    \n",
    "    diagonal_1 = board[0] == board[4] == board[8] != \"-\"\n",
    "    diagonal_2 = board[2] == board[4] == board[6] != \"-\"\n",
    "    \n",
    "    if diagonal_1 or diagonal_2:\n",
    "        game_still_going = False\n",
    "        \n",
    "    if diagonal_1:\n",
    "        return board[0]\n",
    "    elif diagonal_2:\n",
    "        return board[2]\n",
    "    return"
   ]
  },
  {
   "cell_type": "code",
   "execution_count": 6,
   "metadata": {},
   "outputs": [],
   "source": [
    "def check_for_tie():\n",
    "    global game_still_going\n",
    "    \n",
    "    if \"-\" not in board:\n",
    "        game_still_going = False\n",
    "    \n",
    "    return"
   ]
  },
  {
   "cell_type": "code",
   "execution_count": 7,
   "metadata": {},
   "outputs": [],
   "source": [
    "def flip_player():\n",
    "    \n",
    "    global current_player\n",
    "    if current_player == 'X':\n",
    "        current_player = \"O\"\n",
    "    elif current_player == 'O':\n",
    "        current_player = \"X\"\n",
    "    return"
   ]
  },
  {
   "cell_type": "code",
   "execution_count": 8,
   "metadata": {},
   "outputs": [],
   "source": [
    "def play_game():\n",
    "    \n",
    "    #Draw out the board\n",
    "    display_board()\n",
    "    \n",
    "    #Loop turns until game is over\n",
    "    while game_still_going:\n",
    "        handle_turn(current_player)\n",
    "        check_if_game_over()\n",
    "        flip_player()\n",
    "    \n",
    "    #Print winner    \n",
    "    if winner == \"X\" or winner == \"O\":\n",
    "        print(winner + \" won!\")\n",
    "    elif winner == None:\n",
    "        print(\"Tie.\")\n"
   ]
  },
  {
   "cell_type": "code",
   "execution_count": 9,
   "metadata": {
    "scrolled": true
   },
   "outputs": [
    {
     "name": "stdout",
     "output_type": "stream",
     "text": [
      "- | - | -\n",
      "- | - | -\n",
      "- | - | -\n",
      "X's turn.\n",
      "Choose a position from 1-9: 2\n",
      "- | X | -\n",
      "- | - | -\n",
      "- | - | -\n",
      "O's turn.\n",
      "Choose a position from 1-9: 7\n",
      "- | X | -\n",
      "- | - | -\n",
      "O | - | -\n",
      "X's turn.\n",
      "Choose a position from 1-9: s\n",
      "Invalid input. Choose a position from 1-9: 5\n",
      "- | X | -\n",
      "- | X | -\n",
      "O | - | -\n",
      "O's turn.\n",
      "Choose a position from 1-9: 8\n",
      "- | X | -\n",
      "- | X | -\n",
      "O | O | -\n",
      "X's turn.\n",
      "Choose a position from 1-9: 9\n",
      "- | X | -\n",
      "- | X | -\n",
      "O | O | X\n",
      "O's turn.\n",
      "Choose a position from 1-9: 4\n",
      "- | X | -\n",
      "O | X | -\n",
      "O | O | X\n",
      "X's turn.\n",
      "Choose a position from 1-9: 1\n",
      "X | X | -\n",
      "O | X | -\n",
      "O | O | X\n",
      "X won!\n"
     ]
    }
   ],
   "source": [
    "play_game()"
   ]
  },
  {
   "cell_type": "code",
   "execution_count": null,
   "metadata": {},
   "outputs": [],
   "source": []
  }
 ],
 "metadata": {
  "kernelspec": {
   "display_name": "Python 3",
   "language": "python",
   "name": "python3"
  },
  "language_info": {
   "codemirror_mode": {
    "name": "ipython",
    "version": 3
   },
   "file_extension": ".py",
   "mimetype": "text/x-python",
   "name": "python",
   "nbconvert_exporter": "python",
   "pygments_lexer": "ipython3",
   "version": "3.7.1"
  }
 },
 "nbformat": 4,
 "nbformat_minor": 2
}
