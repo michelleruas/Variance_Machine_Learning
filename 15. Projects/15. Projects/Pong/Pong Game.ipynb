{
 "cells": [
  {
   "cell_type": "markdown",
   "metadata": {},
   "source": [
    "## Pong game\n",
    "2nd Game YAY"
   ]
  },
  {
   "cell_type": "code",
   "execution_count": null,
   "metadata": {},
   "outputs": [],
   "source": [
    "import turtle\n",
    "\n",
    "wn = turtle.Screen()\n",
    "wn. title(\"Pong by @MichelleRuas\")\n",
    "wn.bgcolor(\"blue\")\n",
    "wn.setup(width=800, height=600)\n",
    "wn.tracer(0)\n",
    "\n",
    "\n",
    "#Paddle A    \n",
    "paddle_a = turtle.Turtle()\n",
    "paddle_a.speed(0)\n",
    "paddle_a.color(\"green\")\n",
    "paddle_a.shape(\"square\")\n",
    "paddle_a.shapesize(stretch_wid = 5, stretch_len = 1)\n",
    "paddle_a.penup()\n",
    "paddle_a.goto(-350, 0)\n",
    "\n",
    "\n",
    "#Game loop\n",
    "while True:\n",
    "    wn.update()\n",
    "    \n",
    "\n"
   ]
  },
  {
   "cell_type": "code",
   "execution_count": null,
   "metadata": {},
   "outputs": [],
   "source": []
  }
 ],
 "metadata": {
  "kernelspec": {
   "display_name": "Python 3",
   "language": "python",
   "name": "python3"
  },
  "language_info": {
   "codemirror_mode": {
    "name": "ipython",
    "version": 3
   },
   "file_extension": ".py",
   "mimetype": "text/x-python",
   "name": "python",
   "nbconvert_exporter": "python",
   "pygments_lexer": "ipython3",
   "version": "3.7.1"
  }
 },
 "nbformat": 4,
 "nbformat_minor": 2
}
