{
 "cells": [
  {
   "cell_type": "code",
   "execution_count": 1,
   "metadata": {},
   "outputs": [],
   "source": [
    "player_A = \"\"\n",
    "player_B = \"\"\n",
    "\n",
    "def run_game():\n",
    "    get_choices()\n",
    "    winner = get_winner()\n",
    "    if winner in [\"Player A\", \"Player B\"]:\n",
    "        print( winner + \" won!! :)\")\n",
    "    else:\n",
    "        print (\"Tie :( \")"
   ]
  },
  {
   "cell_type": "code",
   "execution_count": 2,
   "metadata": {},
   "outputs": [],
   "source": [
    "def get_choices(): \n",
    "    \n",
    "    global player_A\n",
    "    global player_B\n",
    "    \n",
    "    player_A = input(\"Player A pick Rock, Paper or Scissors: \")\n",
    "    \n",
    "    while player_A not in [\"Rock\",\"Paper\",\"Scissors\"]:\n",
    "            player_A = input(\"Invalid input.\\nPlayer A pick Rock, Paper or Scissors: \")\n",
    "        \n",
    "    player_B = input(\"Player B pick Rock, Paper or Scissors: \")\n",
    "    \n",
    "    while player_B not in [\"Rock\",\"Paper\",\"Scissors\"]:\n",
    "            player_B = input(\"Invalid input. \\nPlayer B pick Rock, Paper or Scissors: \")\n",
    "    "
   ]
  },
  {
   "cell_type": "code",
   "execution_count": 3,
   "metadata": {},
   "outputs": [],
   "source": [
    "def get_winner():\n",
    "    global player_A\n",
    "    global player_B\n",
    "    \n",
    "    if player_A == \"Rock\":\n",
    "        if player_B == \"Paper\":\n",
    "            return \"Player B\"\n",
    "        elif player_B == \"Scissors\":\n",
    "            return \"Player A\"\n",
    "        else:\n",
    "            return \"Tie\"\n",
    "    \n",
    "    elif player_A == \"Paper\":\n",
    "        if player_B == \"Scissors\":\n",
    "            return \"Player B\"\n",
    "        elif player_B == \"Rock\":\n",
    "            return \"Player A\"\n",
    "        else:\n",
    "            return \"Tie\"\n",
    "    \n",
    "    elif player_A == \"Scissors\":\n",
    "        if player_B == \"Rock\":\n",
    "            return \"Player B\"\n",
    "        elif player_B == \"Paper\":\n",
    "            return \"Player A\"\n",
    "        else:\n",
    "            return \"Tie\"\n",
    "    "
   ]
  },
  {
   "cell_type": "code",
   "execution_count": 6,
   "metadata": {},
   "outputs": [
    {
     "name": "stdout",
     "output_type": "stream",
     "text": [
      "Player A pick Rock, Paper or Scissors: Scissors\n",
      "Player B pick Rock, Paper or Scissors: Paper\n",
      "Player A won!! :)\n"
     ]
    }
   ],
   "source": [
    "run_game()"
   ]
  },
  {
   "cell_type": "code",
   "execution_count": null,
   "metadata": {},
   "outputs": [],
   "source": []
  }
 ],
 "metadata": {
  "kernelspec": {
   "display_name": "Python 3",
   "language": "python",
   "name": "python3"
  },
  "language_info": {
   "codemirror_mode": {
    "name": "ipython",
    "version": 3
   },
   "file_extension": ".py",
   "mimetype": "text/x-python",
   "name": "python",
   "nbconvert_exporter": "python",
   "pygments_lexer": "ipython3",
   "version": "3.7.1"
  }
 },
 "nbformat": 4,
 "nbformat_minor": 2
}
