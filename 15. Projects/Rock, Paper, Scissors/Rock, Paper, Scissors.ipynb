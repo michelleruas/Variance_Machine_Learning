{
 "cells": [
  {
   "cell_type": "code",
   "execution_count": 22,
   "metadata": {},
   "outputs": [],
   "source": [
    "def run_game(): \n",
    "    player_A = input(\"Player A pick Rock, Paper or Scissors: \")\n",
    "    \n",
    "    while player_A not in [\"Rock\",\"Paper\",\"Scissors\"]:\n",
    "            player_A = input(\"Invalid input.\\nPlayer A choose rock, paper or scissors: \")\n",
    "        \n",
    "    player_B = input(\"Player B pick Rock, Paper or Scissors: \")\n",
    "    \n",
    "    while player_B not in [\"Rock\",\"Paper\",\"Scissors\"]:\n",
    "            player_B = input(\"Invalid input. \\nPlayer B choose rock, paper or scissors: \")\n",
    "    "
   ]
  },
  {
   "cell_type": "code",
   "execution_count": null,
   "metadata": {},
   "outputs": [
    {
     "name": "stdout",
     "output_type": "stream",
     "text": [
      "Player A pick Rock, Paper or Scissors: r\n"
     ]
    }
   ],
   "source": [
    "run_game()"
   ]
  },
  {
   "cell_type": "code",
   "execution_count": null,
   "metadata": {},
   "outputs": [],
   "source": []
  }
 ],
 "metadata": {
  "kernelspec": {
   "display_name": "Python 3",
   "language": "python",
   "name": "python3"
  },
  "language_info": {
   "codemirror_mode": {
    "name": "ipython",
    "version": 3
   },
   "file_extension": ".py",
   "mimetype": "text/x-python",
   "name": "python",
   "nbconvert_exporter": "python",
   "pygments_lexer": "ipython3",
   "version": "3.7.1"
  }
 },
 "nbformat": 4,
 "nbformat_minor": 2
}
