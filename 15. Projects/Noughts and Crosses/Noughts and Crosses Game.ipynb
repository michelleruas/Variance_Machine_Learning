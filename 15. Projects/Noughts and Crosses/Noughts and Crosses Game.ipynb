{
 "cells": [
  {
   "cell_type": "markdown",
   "metadata": {},
   "source": [
    "# My First Python Game :)"
   ]
  },
  {
   "cell_type": "markdown",
   "metadata": {},
   "source": [
    "## Things we need: \n",
    "- Board\n",
    "- Display Board\n",
    "- Play Game \n",
    "    - Alternating turns\n",
    "- Check win\n",
    "    - Check rows\n",
    "    - Check columns\n",
    "    - Check diagonals\n",
    "- Check tie\n",
    "- Flip player"
   ]
  },
  {
   "cell_type": "code",
   "execution_count": 130,
   "metadata": {},
   "outputs": [],
   "source": [
    "# -------Global variables--------------\n",
    "\n",
    "\n",
    "# Game board\n",
    "board = [\"-\",\"-\",\"-\",\n",
    "         \"-\",\"-\",\"-\",\n",
    "         \"-\",\"-\",\"-\",]\n",
    "\n",
    "game_still_going = True\n",
    "winnner = None\n",
    "current_player = \"X\"\n"
   ]
  },
  {
   "cell_type": "code",
   "execution_count": 131,
   "metadata": {},
   "outputs": [],
   "source": [
    "def display_board():\n",
    "    print(board[0]+ \" | \" +board[1]+ \" | \" + board[2])\n",
    "    print(board[3]+ \" | \" +board[4]+ \" | \" + board[5])\n",
    "    print(board[6]+ \" | \" +board[7]+ \" | \" + board[8])"
   ]
  },
  {
   "cell_type": "code",
   "execution_count": 132,
   "metadata": {},
   "outputs": [],
   "source": [
    "def handle_turn(player):\n",
    "    position = input(\"Choose a position from 1-9: \")\n",
    "    position = int(position) - 1\n",
    "    board[position] = current_player\n",
    "    display_board()"
   ]
  },
  {
   "cell_type": "code",
   "execution_count": 133,
   "metadata": {},
   "outputs": [],
   "source": [
    "def check_if_game_over():\n",
    "    check_for_win()\n",
    "    check_for_tie()"
   ]
  },
  {
   "cell_type": "code",
   "execution_count": 134,
   "metadata": {},
   "outputs": [],
   "source": [
    "def check_for_win():\n",
    "    \n",
    "    #Set up global variables\n",
    "    global winner\n",
    "   \n",
    "    #Check rows\n",
    "    row_winner = check_rows()\n",
    "    \n",
    "    #Check columns\n",
    "    column_winner = check_columns()\n",
    "    \n",
    "    #Check diagonals\n",
    "    diagonal_winner = check_diagonals()\n",
    "    \n",
    "    if row_winner:\n",
    "        #win\n",
    "        winner = row_winner\n",
    "    elif column_winner:\n",
    "        #win\n",
    "        winner = column_winner\n",
    "    elif diagonal_winner:\n",
    "        #win\n",
    "        winner = diagonal_winner\n",
    "    else:\n",
    "        winner = None\n",
    "    return \n",
    "\n",
    "def check_rows():\n",
    "    global game_still_going\n",
    "    global winner\n",
    "    \n",
    "    row_1 = board[0] == board[1] == board[2] != \"-\"\n",
    "    row_2 = board[3] == board[4] == board[5] != \"-\"\n",
    "    row_3 = board[6] == board[7] == board[8] != \"-\"\n",
    "    \n",
    "    if row_1 or row_2 or row_3:\n",
    "        game_still_going = False\n",
    "        \n",
    "    if row_1:\n",
    "        return board[0]\n",
    "    elif row_2:\n",
    "        return board[3]\n",
    "    elif row_3:\n",
    "        return board[6]  \n",
    "    return\n",
    "\n",
    "def check_columns():\n",
    "    column_1 = board[0] == board[3] == board[6] != \"-\"\n",
    "    column_2 = board[1] == board[4] == board[7] != \"-\"\n",
    "    column_3 = board[2] == board[5] == board[8] != \"-\"\n",
    "    \n",
    "    if column_1 or column_2 or column_3:\n",
    "        game_still_going = False\n",
    "        \n",
    "    if column_1:\n",
    "        return board[0]\n",
    "    elif column_2:\n",
    "        return board[1]\n",
    "    elif column_3:\n",
    "        return board[2]\n",
    "    return\n",
    "\n",
    "def check_diagonals():\n",
    "    diagonal_1 = board[0] == board[4] == board[8] != \"-\"\n",
    "    diagonal_2 = board[2] == board[4] == board[6] != \"-\"\n",
    "    \n",
    "    if diagonal_1 or diagonal_2:\n",
    "        game_still_going = False\n",
    "        \n",
    "    if diagonal_1:\n",
    "        return board[0]\n",
    "    elif diagonal_2:\n",
    "        return board[2]\n",
    "    return"
   ]
  },
  {
   "cell_type": "code",
   "execution_count": 135,
   "metadata": {},
   "outputs": [],
   "source": [
    "def check_for_tie():\n",
    "    return"
   ]
  },
  {
   "cell_type": "code",
   "execution_count": 136,
   "metadata": {},
   "outputs": [],
   "source": [
    "def flip_player():\n",
    "    \n",
    "    global current_player\n",
    "    if current_player == 'X':\n",
    "        current_player = \"O\"\n",
    "    elif current_player == 'O':\n",
    "        current_player = \"X\"\n",
    "    return"
   ]
  },
  {
   "cell_type": "code",
   "execution_count": 137,
   "metadata": {},
   "outputs": [],
   "source": [
    "def play_game():\n",
    "    \n",
    "    #Draw out the board\n",
    "    display_board()\n",
    "    \n",
    "    #Loop turns until game is over\n",
    "    while game_still_going:\n",
    "        handle_turn(current_player)\n",
    "        check_if_game_over()\n",
    "        flip_player()\n",
    "    \n",
    "    #Print winner    \n",
    "    if winner == \"X\" or winner == \"O\":\n",
    "        print(winner + \" won!\")\n",
    "    elif winner == None:\n",
    "        print(\"Tie.\")\n"
   ]
  },
  {
   "cell_type": "code",
   "execution_count": null,
   "metadata": {},
   "outputs": [
    {
     "name": "stdout",
     "output_type": "stream",
     "text": [
      "- | - | -\n",
      "- | - | -\n",
      "- | - | -\n",
      "Choose a position from 1-9: 1\n",
      "X | - | -\n",
      "- | - | -\n",
      "- | - | -\n",
      "Choose a position from 1-9: 3\n",
      "X | - | O\n",
      "- | - | -\n",
      "- | - | -\n",
      "Choose a position from 1-9: 2\n",
      "X | X | O\n",
      "- | - | -\n",
      "- | - | -\n",
      "Choose a position from 1-9: 6\n",
      "X | X | O\n",
      "- | - | O\n",
      "- | - | -\n",
      "Choose a position from 1-9: 4\n",
      "X | X | O\n",
      "X | - | O\n",
      "- | - | -\n",
      "Choose a position from 1-9: 9\n",
      "X | X | O\n",
      "X | - | O\n",
      "- | - | O\n"
     ]
    }
   ],
   "source": [
    "play_game()"
   ]
  },
  {
   "cell_type": "markdown",
   "metadata": {},
   "source": []
  }
 ],
 "metadata": {
  "kernelspec": {
   "display_name": "Python 3",
   "language": "python",
   "name": "python3"
  },
  "language_info": {
   "codemirror_mode": {
    "name": "ipython",
    "version": 3
   },
   "file_extension": ".py",
   "mimetype": "text/x-python",
   "name": "python",
   "nbconvert_exporter": "python",
   "pygments_lexer": "ipython3",
   "version": "3.7.1"
  }
 },
 "nbformat": 4,
 "nbformat_minor": 2
}
