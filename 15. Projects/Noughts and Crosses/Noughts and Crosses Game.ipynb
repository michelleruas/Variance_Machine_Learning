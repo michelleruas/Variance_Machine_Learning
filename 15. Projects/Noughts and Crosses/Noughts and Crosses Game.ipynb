{
 "cells": [
  {
   "cell_type": "markdown",
   "metadata": {},
   "source": [
    "# My First Python Game :)"
   ]
  },
  {
   "cell_type": "markdown",
   "metadata": {},
   "source": [
    "## Things we need: \n",
    "- Board\n",
    "- Display Board\n",
    "- Play Game \n",
    "    - Alternating turns\n",
    "- Check win\n",
    "    - Check rows\n",
    "    - Check columns\n",
    "    - Check diagonals\n",
    "- Check tie\n",
    "- Flip player"
   ]
  },
  {
   "cell_type": "code",
   "execution_count": null,
   "metadata": {},
   "outputs": [],
   "source": []
  }
 ],
 "metadata": {
  "kernelspec": {
   "display_name": "Python 3",
   "language": "python",
   "name": "python3"
  },
  "language_info": {
   "codemirror_mode": {
    "name": "ipython",
    "version": 3
   },
   "file_extension": ".py",
   "mimetype": "text/x-python",
   "name": "python",
   "nbconvert_exporter": "python",
   "pygments_lexer": "ipython3",
   "version": "3.7.1"
  }
 },
 "nbformat": 4,
 "nbformat_minor": 2
}
