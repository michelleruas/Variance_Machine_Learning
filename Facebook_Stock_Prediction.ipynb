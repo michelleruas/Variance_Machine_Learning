{
  "nbformat": 4,
  "nbformat_minor": 0,
  "metadata": {
    "colab": {
      "name": "Facebook Stock Prediction.ipynb",
      "provenance": [],
      "authorship_tag": "ABX9TyNBxWpMLNb4ww3uvnhex0yB",
      "include_colab_link": true
    },
    "kernelspec": {
      "name": "python3",
      "display_name": "Python 3"
    }
  },
  "cells": [
    {
      "cell_type": "markdown",
      "metadata": {
        "id": "view-in-github",
        "colab_type": "text"
      },
      "source": [
        "<a href=\"https://colab.research.google.com/github/michelleruas/Variance_Machine_Learning_Project/blob/master/Facebook_Stock_Prediction.ipynb\" target=\"_parent\"><img src=\"https://colab.research.google.com/assets/colab-badge.svg\" alt=\"Open In Colab\"/></a>"
      ]
    },
    {
      "cell_type": "markdown",
      "metadata": {
        "id": "AfkWuWh8sFZf",
        "colab_type": "text"
      },
      "source": [
        "# Facebook Stock Prediction\n",
        "\n",
        "This program predicts the price of facebook stock for a specific day."
      ]
    },
    {
      "cell_type": "code",
      "metadata": {
        "id": "9LtB-M2gr105",
        "colab_type": "code",
        "colab": {}
      },
      "source": [
        "#Import the libraries\n",
        "from sklearn.svm import SVR\n",
        "import numpy as np\n",
        "import pandas as pd\n",
        "import matplotlib.pyplot as plt\n",
        "plt.style.use('fivethirtyeight')"
      ],
      "execution_count": 2,
      "outputs": []
    },
    {
      "cell_type": "code",
      "metadata": {
        "id": "TCCxqbiWsV_o",
        "colab_type": "code",
        "colab": {
          "resources": {
            "http://localhost:8080/nbextensions/google.colab/files.js": {
              "data": "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",
              "ok": true,
              "headers": [
                [
                  "content-type",
                  "application/javascript"
                ]
              ],
              "status": 200,
              "status_text": ""
            }
          },
          "base_uri": "https://localhost:8080/",
          "height": 72
        },
        "outputId": "2036ff25-b31d-4e06-c310-ddde75dc8f79"
      },
      "source": [
        "#Load the data\n",
        "from google.colab import files\n",
        "uploaded = files.upload()"
      ],
      "execution_count": 4,
      "outputs": [
        {
          "output_type": "display_data",
          "data": {
            "text/html": [
              "\n",
              "     <input type=\"file\" id=\"files-77944362-3e2b-4bba-9dc3-7557a8ffa79c\" name=\"files[]\" multiple disabled\n",
              "        style=\"border:none\" />\n",
              "     <output id=\"result-77944362-3e2b-4bba-9dc3-7557a8ffa79c\">\n",
              "      Upload widget is only available when the cell has been executed in the\n",
              "      current browser session. Please rerun this cell to enable.\n",
              "      </output>\n",
              "      <script src=\"/nbextensions/google.colab/files.js\"></script> "
            ],
            "text/plain": [
              "<IPython.core.display.HTML object>"
            ]
          },
          "metadata": {
            "tags": []
          }
        },
        {
          "output_type": "stream",
          "text": [
            "Saving FB.csv to FB.csv\n"
          ],
          "name": "stdout"
        }
      ]
    },
    {
      "cell_type": "code",
      "metadata": {
        "id": "g511A0mkseij",
        "colab_type": "code",
        "colab": {}
      },
      "source": [
        "#Store the data and show it\n",
        "df = pd.read_csv('FB.csv')"
      ],
      "execution_count": 5,
      "outputs": []
    },
    {
      "cell_type": "code",
      "metadata": {
        "id": "fJGSBGnbs-kr",
        "colab_type": "code",
        "colab": {
          "base_uri": "https://localhost:8080/",
          "height": 419
        },
        "outputId": "f0823602-915f-4ebb-9368-10aaafb87578"
      },
      "source": [
        "df"
      ],
      "execution_count": 6,
      "outputs": [
        {
          "output_type": "execute_result",
          "data": {
            "text/html": [
              "<div>\n",
              "<style scoped>\n",
              "    .dataframe tbody tr th:only-of-type {\n",
              "        vertical-align: middle;\n",
              "    }\n",
              "\n",
              "    .dataframe tbody tr th {\n",
              "        vertical-align: top;\n",
              "    }\n",
              "\n",
              "    .dataframe thead th {\n",
              "        text-align: right;\n",
              "    }\n",
              "</style>\n",
              "<table border=\"1\" class=\"dataframe\">\n",
              "  <thead>\n",
              "    <tr style=\"text-align: right;\">\n",
              "      <th></th>\n",
              "      <th>Date</th>\n",
              "      <th>Open</th>\n",
              "      <th>High</th>\n",
              "      <th>Low</th>\n",
              "      <th>Close</th>\n",
              "      <th>Adj Close</th>\n",
              "      <th>Volume</th>\n",
              "    </tr>\n",
              "  </thead>\n",
              "  <tbody>\n",
              "    <tr>\n",
              "      <th>0</th>\n",
              "      <td>2019-08-16</td>\n",
              "      <td>183.750000</td>\n",
              "      <td>185.100006</td>\n",
              "      <td>182.360001</td>\n",
              "      <td>183.699997</td>\n",
              "      <td>183.699997</td>\n",
              "      <td>12654600</td>\n",
              "    </tr>\n",
              "    <tr>\n",
              "      <th>1</th>\n",
              "      <td>2019-08-19</td>\n",
              "      <td>186.009995</td>\n",
              "      <td>187.500000</td>\n",
              "      <td>184.850006</td>\n",
              "      <td>186.169998</td>\n",
              "      <td>186.169998</td>\n",
              "      <td>9691200</td>\n",
              "    </tr>\n",
              "    <tr>\n",
              "      <th>2</th>\n",
              "      <td>2019-08-20</td>\n",
              "      <td>185.449997</td>\n",
              "      <td>186.000000</td>\n",
              "      <td>182.389999</td>\n",
              "      <td>183.809998</td>\n",
              "      <td>183.809998</td>\n",
              "      <td>10083400</td>\n",
              "    </tr>\n",
              "    <tr>\n",
              "      <th>3</th>\n",
              "      <td>2019-08-21</td>\n",
              "      <td>185.000000</td>\n",
              "      <td>185.899994</td>\n",
              "      <td>183.139999</td>\n",
              "      <td>183.550003</td>\n",
              "      <td>183.550003</td>\n",
              "      <td>8398200</td>\n",
              "    </tr>\n",
              "    <tr>\n",
              "      <th>4</th>\n",
              "      <td>2019-08-22</td>\n",
              "      <td>183.429993</td>\n",
              "      <td>184.110001</td>\n",
              "      <td>179.910004</td>\n",
              "      <td>182.039993</td>\n",
              "      <td>182.039993</td>\n",
              "      <td>10821400</td>\n",
              "    </tr>\n",
              "    <tr>\n",
              "      <th>...</th>\n",
              "      <td>...</td>\n",
              "      <td>...</td>\n",
              "      <td>...</td>\n",
              "      <td>...</td>\n",
              "      <td>...</td>\n",
              "      <td>...</td>\n",
              "      <td>...</td>\n",
              "    </tr>\n",
              "    <tr>\n",
              "      <th>247</th>\n",
              "      <td>2020-08-10</td>\n",
              "      <td>268.040009</td>\n",
              "      <td>273.859985</td>\n",
              "      <td>259.690002</td>\n",
              "      <td>263.000000</td>\n",
              "      <td>263.000000</td>\n",
              "      <td>30248800</td>\n",
              "    </tr>\n",
              "    <tr>\n",
              "      <th>248</th>\n",
              "      <td>2020-08-11</td>\n",
              "      <td>260.190002</td>\n",
              "      <td>265.920013</td>\n",
              "      <td>255.130005</td>\n",
              "      <td>256.130005</td>\n",
              "      <td>256.130005</td>\n",
              "      <td>28238300</td>\n",
              "    </tr>\n",
              "    <tr>\n",
              "      <th>249</th>\n",
              "      <td>2020-08-12</td>\n",
              "      <td>258.970001</td>\n",
              "      <td>263.899994</td>\n",
              "      <td>258.109985</td>\n",
              "      <td>259.890015</td>\n",
              "      <td>259.890015</td>\n",
              "      <td>21428300</td>\n",
              "    </tr>\n",
              "    <tr>\n",
              "      <th>250</th>\n",
              "      <td>2020-08-13</td>\n",
              "      <td>261.549988</td>\n",
              "      <td>265.160004</td>\n",
              "      <td>259.570007</td>\n",
              "      <td>261.299988</td>\n",
              "      <td>261.299988</td>\n",
              "      <td>17374000</td>\n",
              "    </tr>\n",
              "    <tr>\n",
              "      <th>251</th>\n",
              "      <td>2020-08-14</td>\n",
              "      <td>262.309998</td>\n",
              "      <td>262.649994</td>\n",
              "      <td>258.679993</td>\n",
              "      <td>261.239990</td>\n",
              "      <td>261.239990</td>\n",
              "      <td>14785200</td>\n",
              "    </tr>\n",
              "  </tbody>\n",
              "</table>\n",
              "<p>252 rows × 7 columns</p>\n",
              "</div>"
            ],
            "text/plain": [
              "           Date        Open        High  ...       Close   Adj Close    Volume\n",
              "0    2019-08-16  183.750000  185.100006  ...  183.699997  183.699997  12654600\n",
              "1    2019-08-19  186.009995  187.500000  ...  186.169998  186.169998   9691200\n",
              "2    2019-08-20  185.449997  186.000000  ...  183.809998  183.809998  10083400\n",
              "3    2019-08-21  185.000000  185.899994  ...  183.550003  183.550003   8398200\n",
              "4    2019-08-22  183.429993  184.110001  ...  182.039993  182.039993  10821400\n",
              "..          ...         ...         ...  ...         ...         ...       ...\n",
              "247  2020-08-10  268.040009  273.859985  ...  263.000000  263.000000  30248800\n",
              "248  2020-08-11  260.190002  265.920013  ...  256.130005  256.130005  28238300\n",
              "249  2020-08-12  258.970001  263.899994  ...  259.890015  259.890015  21428300\n",
              "250  2020-08-13  261.549988  265.160004  ...  261.299988  261.299988  17374000\n",
              "251  2020-08-14  262.309998  262.649994  ...  261.239990  261.239990  14785200\n",
              "\n",
              "[252 rows x 7 columns]"
            ]
          },
          "metadata": {
            "tags": []
          },
          "execution_count": 6
        }
      ]
    },
    {
      "cell_type": "code",
      "metadata": {
        "id": "YB8FIPxas_34",
        "colab_type": "code",
        "colab": {
          "base_uri": "https://localhost:8080/",
          "height": 85
        },
        "outputId": "f99bc0a2-f13a-4c64-8d1e-aa927fff3359"
      },
      "source": [
        "#Get and print the last row of data\n",
        "actual_price = df.tail(1)\n",
        "print(actual_price)"
      ],
      "execution_count": 10,
      "outputs": [
        {
          "output_type": "stream",
          "text": [
            "           Date        Open        High  ...      Close  Adj Close    Volume\n",
            "251  2020-08-14  262.309998  262.649994  ...  261.23999  261.23999  14785200\n",
            "\n",
            "[1 rows x 7 columns]\n"
          ],
          "name": "stdout"
        }
      ]
    },
    {
      "cell_type": "code",
      "metadata": {
        "id": "Q7BQfL0EtHLW",
        "colab_type": "code",
        "colab": {
          "base_uri": "https://localhost:8080/",
          "height": 255
        },
        "outputId": "25a07c19-2ba4-4098-efe9-f4ec44743bd1"
      },
      "source": [
        "#Prepare the data for trianing the SVR models\n",
        "#Get all of the data except for the last row\n",
        "df = df.head(len(df)-1)\n",
        "\n",
        "#Print the new data set\n",
        "print(df)"
      ],
      "execution_count": 12,
      "outputs": [
        {
          "output_type": "stream",
          "text": [
            "           Date        Open        High  ...       Close   Adj Close    Volume\n",
            "0    2019-08-16  183.750000  185.100006  ...  183.699997  183.699997  12654600\n",
            "1    2019-08-19  186.009995  187.500000  ...  186.169998  186.169998   9691200\n",
            "2    2019-08-20  185.449997  186.000000  ...  183.809998  183.809998  10083400\n",
            "3    2019-08-21  185.000000  185.899994  ...  183.550003  183.550003   8398200\n",
            "4    2019-08-22  183.429993  184.110001  ...  182.039993  182.039993  10821400\n",
            "..          ...         ...         ...  ...         ...         ...       ...\n",
            "246  2020-08-07  264.079987  278.890015  ...  268.440002  268.440002  72735500\n",
            "247  2020-08-10  268.040009  273.859985  ...  263.000000  263.000000  30248800\n",
            "248  2020-08-11  260.190002  265.920013  ...  256.130005  256.130005  28238300\n",
            "249  2020-08-12  258.970001  263.899994  ...  259.890015  259.890015  21428300\n",
            "250  2020-08-13  261.549988  265.160004  ...  261.299988  261.299988  17374000\n",
            "\n",
            "[251 rows x 7 columns]\n"
          ],
          "name": "stdout"
        }
      ]
    },
    {
      "cell_type": "code",
      "metadata": {
        "id": "oHB1m5twxGHk",
        "colab_type": "code",
        "colab": {}
      },
      "source": [
        "days = list()\n",
        "adj_close_prices = list()"
      ],
      "execution_count": 25,
      "outputs": []
    },
    {
      "cell_type": "code",
      "metadata": {
        "id": "53euQ8afxjRV",
        "colab_type": "code",
        "colab": {}
      },
      "source": [
        "#Get the dates and the adjusted close prices\n",
        "df_days = df.loc[:, 'Date']\n",
        "df_adj_close = df.loc[:, 'Adj Close']"
      ],
      "execution_count": 26,
      "outputs": []
    },
    {
      "cell_type": "code",
      "metadata": {
        "id": "STxfwsv2x_zb",
        "colab_type": "code",
        "colab": {}
      },
      "source": [
        "#Create the independent data set\n",
        "for day in df_days:\n",
        "  days.append([int(day.split(\"-\")[2])])\n",
        "\n",
        "#Create the dependent data set\n",
        "for adj_close in df_adj_close:\n",
        "  adj_close_prices.append(float(adj_close))"
      ],
      "execution_count": 27,
      "outputs": []
    },
    {
      "cell_type": "code",
      "metadata": {
        "id": "ZJdfmPbBykAM",
        "colab_type": "code",
        "colab": {
          "base_uri": "https://localhost:8080/",
          "height": 71
        },
        "outputId": "622699ba-920c-473a-ed62-07c5b9df89a2"
      },
      "source": [
        "#Print the days and the adj close prices\n",
        "print(days)\n",
        "print(adj_close_prices)"
      ],
      "execution_count": 28,
      "outputs": [
        {
          "output_type": "stream",
          "text": [
            "[[16], [19], [20], [21], [22], [23], [26], [27], [28], [29], [30], [3], [4], [5], [6], [9], [10], [11], [12], [13], [16], [17], [18], [19], [20], [23], [24], [25], [26], [27], [30], [1], [2], [3], [4], [7], [8], [9], [10], [11], [14], [15], [16], [17], [18], [21], [22], [23], [24], [25], [28], [29], [30], [31], [1], [4], [5], [6], [7], [8], [11], [12], [13], [14], [15], [18], [19], [20], [21], [22], [25], [26], [27], [29], [2], [3], [4], [5], [6], [9], [10], [11], [12], [13], [16], [17], [18], [19], [20], [23], [24], [26], [27], [30], [31], [2], [3], [6], [7], [8], [9], [10], [13], [14], [15], [16], [17], [21], [22], [23], [24], [27], [28], [29], [30], [31], [3], [4], [5], [6], [7], [10], [11], [12], [13], [14], [18], [19], [20], [21], [24], [25], [26], [27], [28], [2], [3], [4], [5], [6], [9], [10], [11], [12], [13], [16], [17], [18], [19], [20], [23], [24], [25], [26], [27], [30], [31], [1], [2], [3], [6], [7], [8], [9], [13], [14], [15], [16], [17], [20], [21], [22], [23], [24], [27], [28], [29], [30], [1], [4], [5], [6], [7], [8], [11], [12], [13], [14], [15], [18], [19], [20], [21], [22], [26], [27], [28], [29], [1], [2], [3], [4], [5], [8], [9], [10], [11], [12], [15], [16], [17], [18], [19], [22], [23], [24], [25], [26], [29], [30], [1], [2], [6], [7], [8], [9], [10], [13], [14], [15], [16], [17], [20], [21], [22], [23], [24], [27], [28], [29], [30], [31], [3], [4], [5], [6], [7], [10], [11], [12], [13]]\n",
            "[183.699997, 186.169998, 183.809998, 183.550003, 182.03999299999998, 177.75, 180.360001, 181.300003, 181.759995, 185.570007, 185.669998, 182.389999, 187.139999, 190.899994, 187.490005, 188.759995, 186.169998, 188.490005, 187.470001, 187.190002, 186.220001, 188.080002, 188.139999, 190.139999, 189.929993, 186.820007, 181.279999, 182.800003, 180.110001, 177.100006, 178.080002, 175.809998, 174.600006, 179.380005, 180.449997, 179.679993, 177.75, 179.850006, 180.029999, 184.190002, 183.279999, 188.889999, 189.550003, 190.389999, 185.850006, 189.759995, 182.33999599999999, 186.149994, 186.380005, 187.889999, 189.399994, 189.309998, 188.25, 191.649994, 193.619995, 194.720001, 194.320007, 191.550003, 190.419998, 190.83999599999999, 189.610001, 194.470001, 193.190002, 193.149994, 195.100006, 197.399994, 199.320007, 197.509995, 197.929993, 198.820007, 199.78999299999998, 198.970001, 202.0, 201.639999, 199.699997, 198.820007, 198.71000700000002, 199.360001, 201.050003, 201.33999599999999, 200.869995, 202.259995, 196.75, 194.110001, 197.919998, 198.389999, 202.5, 206.059998, 206.300003, 206.179993, 205.119995, 207.78999299999998, 208.100006, 204.41000400000001, 205.25, 209.77999900000003, 208.669998, 212.600006, 213.059998, 215.22000099999997, 218.30000299999998, 218.059998, 221.91000400000001, 219.059998, 221.149994, 221.770004, 222.13999900000002, 221.440002, 221.32000699999998, 219.75999500000003, 217.940002, 214.86999500000002, 217.789993, 223.229996, 209.529999, 201.91000400000001, 204.190002, 209.830002, 210.11000099999998, 210.850006, 212.330002, 213.059998, 207.190002, 210.75999500000003, 213.13999900000002, 214.17999300000002, 217.80000299999998, 217.49000499999997, 214.580002, 210.17999300000002, 200.720001, 196.770004, 197.199997, 189.75, 192.470001, 196.440002, 185.889999, 191.759995, 185.169998, 181.08999599999999, 169.5, 178.190002, 170.240005, 154.470001, 170.279999, 146.009995, 149.419998, 146.96000700000002, 153.130005, 149.729996, 148.100006, 160.979996, 156.21000700000002, 163.33999599999999, 156.78999299999998, 165.949997, 166.800003, 159.600006, 158.190002, 154.179993, 165.550003, 168.830002, 174.279999, 175.190002, 174.78999299999998, 178.169998, 176.970001, 176.25, 179.240005, 178.240005, 170.800003, 182.279999, 185.130005, 190.070007, 187.5, 182.91000400000001, 194.190002, 204.71000700000002, 202.270004, 205.259995, 207.070007, 208.470001, 211.25999500000003, 212.350006, 213.17999300000002, 210.100006, 205.100006, 206.809998, 210.88000499999998, 213.190002, 216.88000499999998, 229.97000099999997, 231.38999900000002, 234.91000400000001, 232.19999700000002, 229.13999900000002, 225.460007, 225.08999599999999, 231.91000400000001, 232.72000099999997, 230.16000400000001, 226.289993, 230.770004, 231.399994, 238.669998, 236.729996, 224.42999300000002, 228.580002, 232.5, 235.649994, 235.52999900000003, 235.940002, 238.789993, 239.22000099999997, 242.24000499999997, 234.020004, 235.67999300000002, 216.080002, 220.63999900000002, 227.07000699999998, 237.55000299999998, 233.419998, 240.27999900000003, 240.86000099999998, 243.580002, 244.5, 245.07000699999998, 239.0, 239.729996, 240.27999900000003, 240.92999300000002, 242.02999900000003, 245.419998, 241.75, 239.86999500000002, 232.600006, 230.710007, 233.5, 230.11999500000002, 233.289993, 234.5, 253.669998, 251.960007, 249.830002, 249.11999500000002, 265.27999900000003, 268.440002, 263.0, 256.130005, 259.890015, 261.299988]\n"
          ],
          "name": "stdout"
        }
      ]
    },
    {
      "cell_type": "code",
      "metadata": {
        "id": "jz4p9vJm1vtq",
        "colab_type": "code",
        "colab": {
          "base_uri": "https://localhost:8080/",
          "height": 51
        },
        "outputId": "217ab411-8a0c-427d-c9e9-e571623f2665"
      },
      "source": [
        "#Create the 3 Support Vector Regression models\n",
        "\n",
        "#Create and train a SVR model using a linear kernel\n",
        "lin_svr = SVR(kernel = 'linear', C=1000.0)\n",
        "lin_svr.fit(days, adj_close_prices)\n",
        "\n",
        "#Create and train a SVR model using a linear kernel\n",
        "poly_svr = SVR(kernel = 'poly', C=1000.0, degree =2)\n",
        "poly_svr.fit(days, adj_close_prices)\n",
        "\n",
        "#Create and train a SVR model using a rbf kernel\n",
        "rbf_svr = SVR(kernel = 'rbf', C=1000.0, gamma=0.15)\n",
        "rbf_svr.fit(days, adj_close_prices)"
      ],
      "execution_count": 33,
      "outputs": [
        {
          "output_type": "execute_result",
          "data": {
            "text/plain": [
              "SVR(C=1000.0, cache_size=200, coef0=0.0, degree=3, epsilon=0.1, gamma=0.15,\n",
              "    kernel='rbf', max_iter=-1, shrinking=True, tol=0.001, verbose=False)"
            ]
          },
          "metadata": {
            "tags": []
          },
          "execution_count": 33
        }
      ]
    },
    {
      "cell_type": "code",
      "metadata": {
        "id": "WjXpgTMO2e0_",
        "colab_type": "code",
        "colab": {
          "base_uri": "https://localhost:8080/",
          "height": 479
        },
        "outputId": "3662700f-26db-40bc-b5a4-21583231393f"
      },
      "source": [
        "#Plot the models on a graph to see which has the best fit to the original data\n",
        "plt.figure(figsize=(16,8))\n",
        "plt.scatter(days, adj_close_prices, color ='red', label='Data')\n",
        "plt.plot(days, poly_svr.predict(days), color ='orange', label= 'Polynomial Model')\n",
        "plt.plot(days, rbf_svr.predict(days), color ='green', label= 'RBF Model')\n",
        "plt.plot(days, lin_svr.predict(days), color ='blue', label= 'Linear Model')\n",
        "plt.legend()\n",
        "plt.show()"
      ],
      "execution_count": 34,
      "outputs": [
        {
          "output_type": "display_data",
          "data": {
            "image/png": "[encoded data removed]",
            "text/plain": [
              "<Figure size 1152x576 with 1 Axes>"
            ]
          },
          "metadata": {
            "tags": [],
            "needs_background": "light"
          }
        }
      ]
    },
    {
      "cell_type": "code",
      "metadata": {
        "id": "ff2BocHd3K7z",
        "colab_type": "code",
        "colab": {
          "base_uri": "https://localhost:8080/",
          "height": 68
        },
        "outputId": "864175ab-33e4-4017-9c8b-55ab160958b5"
      },
      "source": [
        "#Show the predicted price for the given day\n",
        "day = [[31]]\n",
        "\n",
        "print('The RBF SVR predicted: ', rbf_svr.predict(day))\n",
        "print('The Linear SVR predicted: ', lin_svr.predict(day))\n",
        "print('The Polynomial SVR predicted: ', poly_svr.predict(day))"
      ],
      "execution_count": 36,
      "outputs": [
        {
          "output_type": "stream",
          "text": [
            "The RBF SVR predicted:  [201.80999372]\n",
            "The Linear SVR predicted:  [198.27625287]\n",
            "The Polynomial SVR predicted:  [198.20851732]\n"
          ],
          "name": "stdout"
        }
      ]
    }
  ]
}