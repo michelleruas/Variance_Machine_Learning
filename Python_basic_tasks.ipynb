{
  "nbformat": 4,
  "nbformat_minor": 0,
  "metadata": {
    "colab": {
      "name": "Python basic tasks.ipynb",
      "provenance": [],
      "collapsed_sections": [],
      "authorship_tag": "ABX9TyN+nGd59N9BxsMvg7cEYry6",
      "include_colab_link": true
    },
    "kernelspec": {
      "name": "python3",
      "display_name": "Python 3"
    }
  },
  "cells": [
    {
      "cell_type": "markdown",
      "metadata": {
        "id": "view-in-github",
        "colab_type": "text"
      },
      "source": [
        "<a href=\"https://colab.research.google.com/github/michelleruas/Variance_Machine_Learning_Project/blob/master/Python_basic_tasks.ipynb\" target=\"_parent\"><img src=\"https://colab.research.google.com/assets/colab-badge.svg\" alt=\"Open In Colab\"/></a>"
      ]
    },
    {
      "cell_type": "code",
      "metadata": {
        "id": "NblTm6MK-QfT",
        "colab_type": "code",
        "colab": {
          "base_uri": "https://localhost:8080/",
          "height": 102
        },
        "outputId": "ca744095-9820-4fd5-f0ec-1c077e19768e"
      },
      "source": [
        "#Printing a shape\n",
        "print(\"    /| \")\n",
        "print(\"   / |\")\n",
        "print(\"  /  |\")\n",
        "print(\" /   |\")\n",
        "print(\"/____|\")"
      ],
      "execution_count": null,
      "outputs": [
        {
          "output_type": "stream",
          "text": [
            "    /| \n",
            "   / |\n",
            "  /  |\n",
            " /   |\n",
            "/____|\n"
          ],
          "name": "stdout"
        }
      ]
    },
    {
      "cell_type": "code",
      "metadata": {
        "id": "vaDEuJbQ_OM0",
        "colab_type": "code",
        "colab": {
          "base_uri": "https://localhost:8080/",
          "height": 85
        },
        "outputId": "ee9ea640-c3cc-4a6d-aafa-5c0c3a27dd4a"
      },
      "source": [
        "#Printing strings\n",
        "character_name = \"John\"\n",
        "character_age = \"35\"\n",
        "print(\"There once was a man named \" + character_name + \",\")\n",
        "print(\"he was \"+ character_age + \" years old,\")\n",
        "print(\"he really liked the name \"+ character_name + \",\")\n",
        "print(\"he didn't like being \"+ character_age + \".\")\n"
      ],
      "execution_count": null,
      "outputs": [
        {
          "output_type": "stream",
          "text": [
            "There once was a man named John,\n",
            "he was 35 years old,\n",
            "he really liked the name John,\n",
            "he didn't like being 35.\n"
          ],
          "name": "stdout"
        }
      ]
    },
    {
      "cell_type": "code",
      "metadata": {
        "id": "igLaeRMTCKwF",
        "colab_type": "code",
        "colab": {
          "base_uri": "https://localhost:8080/",
          "height": 187
        },
        "outputId": "03cef0b8-c655-472a-b3ea-5490be22850c"
      },
      "source": [
        "#String methods\n",
        "phrase = \"Giraffe Academy\"\n",
        "print(phrase.lower())\n",
        "print(phrase.upper())\n",
        "print(phrase.isupper())\n",
        "print(phrase.upper().isupper())\n",
        "print(len(phrase))\n",
        "print(phrase[0])\n",
        "print(phrase[-1])\n",
        "print(phrase[3:6])\n",
        "\n",
        "#Passing a parameter\n",
        "print(phrase.index(\"A\"))\n",
        "print(phrase.replace(\"Giraffe\", \"Elephant\"))"
      ],
      "execution_count": null,
      "outputs": [
        {
          "output_type": "stream",
          "text": [
            "giraffe academy\n",
            "GIRAFFE ACADEMY\n",
            "False\n",
            "True\n",
            "15\n",
            "G\n",
            "y\n",
            "aff\n",
            "8\n",
            "Elephant Academy\n"
          ],
          "name": "stdout"
        }
      ]
    },
    {
      "cell_type": "code",
      "metadata": {
        "id": "LVp3mHovHP3w",
        "colab_type": "code",
        "colab": {
          "base_uri": "https://localhost:8080/",
          "height": 255
        },
        "outputId": "4366f3c7-dbd9-42d6-9487-c930ff509500"
      },
      "source": [
        "#Using numbers\n",
        "num = 0.384\n",
        "print(num)\n",
        "print(type(num))\n",
        "\n",
        "num = 3\n",
        "print(num)\n",
        "print(type(num))\n",
        "\n",
        "num = -100\n",
        "print(num)\n",
        "print(type(num))\n",
        "\n",
        "print(2*(8+3))\n",
        "print(10 % 3)\n",
        "\n",
        "print(str(num))\n",
        "print(type(str(num)))\n",
        "\n",
        "#4ˆ6\n",
        "print(pow(4,6))\n",
        "#Returns max and min\n",
        "print(max(4,6))\n",
        "print(min(4,6))\n",
        "#Round\n",
        "print(round(4.346))"
      ],
      "execution_count": null,
      "outputs": [
        {
          "output_type": "stream",
          "text": [
            "0.384\n",
            "<class 'float'>\n",
            "3\n",
            "<class 'int'>\n",
            "-100\n",
            "<class 'int'>\n",
            "22\n",
            "1\n",
            "-100\n",
            "<class 'str'>\n",
            "4096\n",
            "6\n",
            "4\n",
            "4\n"
          ],
          "name": "stdout"
        }
      ]
    },
    {
      "cell_type": "code",
      "metadata": {
        "id": "PP0dId4jI8pj",
        "colab_type": "code",
        "colab": {
          "base_uri": "https://localhost:8080/",
          "height": 68
        },
        "outputId": "1f1e9b6e-c075-41c7-96d6-2d1ebfaaca88"
      },
      "source": [
        "#Using the math module\n",
        "from math import *\n",
        "\n",
        "print(floor(3.7))\n",
        "print(ceil(3.7))\n",
        "print(sqrt(3.7))"
      ],
      "execution_count": null,
      "outputs": [
        {
          "output_type": "stream",
          "text": [
            "3\n",
            "4\n",
            "1.9235384061671346\n"
          ],
          "name": "stdout"
        }
      ]
    },
    {
      "cell_type": "code",
      "metadata": {
        "id": "RXcXze63JiKE",
        "colab_type": "code",
        "colab": {
          "base_uri": "https://localhost:8080/",
          "height": 68
        },
        "outputId": "23b6dc7a-53fc-4157-a88a-30e694149d5a"
      },
      "source": [
        "#Getting input from a user\n",
        "name = input(\"Enter your name: \")\n",
        "age = input(\"Enter your age: \")\n",
        "print(\"Hi \"+name + ', you are '+age)"
      ],
      "execution_count": null,
      "outputs": [
        {
          "output_type": "stream",
          "text": [
            "Enter your name: shell\n",
            "Enter your age: 23\n",
            "Hi shell, you are 23\n"
          ],
          "name": "stdout"
        }
      ]
    },
    {
      "cell_type": "code",
      "metadata": {
        "id": "kwRCZDO0Js71",
        "colab_type": "code",
        "colab": {
          "base_uri": "https://localhost:8080/",
          "height": 68
        },
        "outputId": "ab0f759b-f90d-4454-a6b0-4d187cc6c8b8"
      },
      "source": [
        "#Build a calculator\n",
        "num1 = input('Enter a number: ')\n",
        "num2 = input('Enter another number: ')\n",
        "result = float(num1) + float(num2)\n",
        "print('The sum is: ' + str(result))"
      ],
      "execution_count": null,
      "outputs": [
        {
          "output_type": "stream",
          "text": [
            "Enter a number: 4.5\n",
            "Enter another number: 6\n",
            "The sum is: 10.5\n"
          ],
          "name": "stdout"
        }
      ]
    },
    {
      "cell_type": "code",
      "metadata": {
        "id": "21Uk4MHOL2YG",
        "colab_type": "code",
        "colab": {
          "base_uri": "https://localhost:8080/",
          "height": 119
        },
        "outputId": "57a770f2-d94c-45d4-b374-174d5765eb84"
      },
      "source": [
        "#Mad libs game\n",
        "\n",
        "color = input('Enter a color: ')\n",
        "plural_noun = input('Enter a plural noun: ')\n",
        "celebrity = input('Enter a celebrity: ')\n",
        "\n",
        "print('Roses are ' + color)\n",
        "print(plural_noun + ' are blue')\n",
        "print('I love ' + celebrity)"
      ],
      "execution_count": 1,
      "outputs": [
        {
          "output_type": "stream",
          "text": [
            "Enter a color: green\n",
            "Enter a plural noun: cars\n",
            "Enter a celebrity: Rob Pattinson\n",
            "Roses are green\n",
            "cars are blue\n",
            "I love Rob Pattinson\n"
          ],
          "name": "stdout"
        }
      ]
    },
    {
      "cell_type": "code",
      "metadata": {
        "id": "thZdgeMpblLz",
        "colab_type": "code",
        "colab": {}
      },
      "source": [
        "#Lists, first thing would be to give it a descriptive name\n",
        "#Can put any piece of information into a list\n",
        "friends = [\"laura\", \"emma\", \"lauren\", \"sofia\", \"chris\", \"ben\"]\n"
      ],
      "execution_count": 20,
      "outputs": []
    },
    {
      "cell_type": "code",
      "metadata": {
        "id": "IFzO0mD5b98P",
        "colab_type": "code",
        "colab": {
          "base_uri": "https://localhost:8080/",
          "height": 85
        },
        "outputId": "33e54dcc-309e-4092-be3c-d7de6b007a93"
      },
      "source": [
        "#See elements\n",
        "print(friends[3])\n",
        "print(friends[-1])\n",
        "print(friends[1:])\n",
        "print(friends[2:4])"
      ],
      "execution_count": 21,
      "outputs": [
        {
          "output_type": "stream",
          "text": [
            "sofia\n",
            "ben\n",
            "['emma', 'lauren', 'sofia', 'chris', 'ben']\n",
            "['lauren', 'sofia']\n"
          ],
          "name": "stdout"
        }
      ]
    },
    {
      "cell_type": "code",
      "metadata": {
        "id": "8Pq3hNLIb_AH",
        "colab_type": "code",
        "colab": {
          "base_uri": "https://localhost:8080/",
          "height": 51
        },
        "outputId": "bf735183-fd77-46a1-aae6-4ac546785a86"
      },
      "source": [
        "#Modify elements\n",
        "print(friends)\n",
        "friends[1] = \"Andrew\"\n",
        "print(friends)"
      ],
      "execution_count": 22,
      "outputs": [
        {
          "output_type": "stream",
          "text": [
            "['laura', 'emma', 'lauren', 'sofia', 'chris', 'ben']\n",
            "['laura', 'Andrew', 'lauren', 'sofia', 'chris', 'ben']\n"
          ],
          "name": "stdout"
        }
      ]
    },
    {
      "cell_type": "code",
      "metadata": {
        "id": "2D7NjflhdO_m",
        "colab_type": "code",
        "colab": {
          "base_uri": "https://localhost:8080/",
          "height": 85
        },
        "outputId": "daada116-c2e2-4205-dd4c-c848df9c727f"
      },
      "source": [
        "#List properties and functions\n",
        "lucky_numbers = [4,2,4,32,42,76]\n",
        "friends = [\"laura\", \"emma\", \"lauren\", \"sofia\", \"chris\", \"ben\"]\n",
        "\n",
        "print(friends)\n",
        "print(lucky_numbers)\n",
        "\n",
        "#Append to the end of the list\n",
        "friends.extend(lucky_numbers)\n",
        "print(friends)\n",
        "\n",
        "#Add new item\n",
        "friends.append(\"Serena\")\n",
        "print(friends)"
      ],
      "execution_count": 27,
      "outputs": [
        {
          "output_type": "stream",
          "text": [
            "['laura', 'emma', 'lauren', 'sofia', 'chris', 'ben']\n",
            "[4, 2, 4, 32, 42, 76]\n",
            "['laura', 'emma', 'lauren', 'sofia', 'chris', 'ben', 4, 2, 4, 32, 42, 76]\n",
            "['laura', 'emma', 'lauren', 'sofia', 'chris', 'ben', 4, 2, 4, 32, 42, 76, 'Serena']\n"
          ],
          "name": "stdout"
        }
      ]
    },
    {
      "cell_type": "code",
      "metadata": {
        "id": "ZuIX7V9OgdDE",
        "colab_type": "code",
        "colab": {
          "base_uri": "https://localhost:8080/",
          "height": 34
        },
        "outputId": "0264bae5-be9a-425d-8d57-2d94214648cd"
      },
      "source": [
        "#Insert takes two parameters\n",
        "friends = [\"laura\", \"emma\", \"lauren\", \"sofia\", \"chris\", \"ben\"]\n",
        "friends.insert(1, \"Kellly\")\n",
        "print(friends)"
      ],
      "execution_count": 29,
      "outputs": [
        {
          "output_type": "stream",
          "text": [
            "['laura', 'Kellly', 'emma', 'lauren', 'sofia', 'chris', 'ben']\n"
          ],
          "name": "stdout"
        }
      ]
    },
    {
      "cell_type": "code",
      "metadata": {
        "id": "AeJnGY6bTHgt",
        "colab_type": "code",
        "colab": {
          "base_uri": "https://localhost:8080/",
          "height": 34
        },
        "outputId": "33bf1cf1-ce16-4fba-c966-740630c9a49b"
      },
      "source": [
        "#'Get rid of all elements'\n",
        "friends.clear()\n",
        "print(friends)"
      ],
      "execution_count": 30,
      "outputs": [
        {
          "output_type": "stream",
          "text": [
            "[]\n"
          ],
          "name": "stdout"
        }
      ]
    },
    {
      "cell_type": "code",
      "metadata": {
        "id": "ylSeOP8vTVvl",
        "colab_type": "code",
        "colab": {
          "base_uri": "https://localhost:8080/",
          "height": 35
        },
        "outputId": "2a36a48c-d024-4bc8-9a87-1cbf56dd7be9"
      },
      "source": [
        "#Pop gives last element\n",
        "friends = [\"laura\", \"emma\", \"lauren\", \"sofia\", \"chris\", \"ben\"]\n",
        "friends.pop()"
      ],
      "execution_count": 32,
      "outputs": [
        {
          "output_type": "execute_result",
          "data": {
            "application/vnd.google.colaboratory.intrinsic+json": {
              "type": "string"
            },
            "text/plain": [
              "'ben'"
            ]
          },
          "metadata": {
            "tags": []
          },
          "execution_count": 32
        }
      ]
    },
    {
      "cell_type": "code",
      "metadata": {
        "id": "lppXFRYYTZKA",
        "colab_type": "code",
        "colab": {
          "base_uri": "https://localhost:8080/",
          "height": 34
        },
        "outputId": "2cf478ac-e863-41bc-8d4a-fcd27fd72fcf"
      },
      "source": [
        "#Find out if an element is in the list and where it is\n",
        "print(friends.index(\"laura\"))"
      ],
      "execution_count": 35,
      "outputs": [
        {
          "output_type": "stream",
          "text": [
            "0\n"
          ],
          "name": "stdout"
        }
      ]
    },
    {
      "cell_type": "code",
      "metadata": {
        "id": "LPB222gqTizM",
        "colab_type": "code",
        "colab": {
          "base_uri": "https://localhost:8080/",
          "height": 34
        },
        "outputId": "e54aef34-3fee-4622-e563-b27e22cb246b"
      },
      "source": [
        "#Find out how many times is appears\n",
        "print(friends.count(\"laura\"))"
      ],
      "execution_count": 36,
      "outputs": [
        {
          "output_type": "stream",
          "text": [
            "1\n"
          ],
          "name": "stdout"
        }
      ]
    },
    {
      "cell_type": "code",
      "metadata": {
        "id": "gQJbAuUYTr5o",
        "colab_type": "code",
        "colab": {
          "base_uri": "https://localhost:8080/",
          "height": 34
        },
        "outputId": "dab465a1-83da-4af5-9bb0-90bcabb9b8b6"
      },
      "source": [
        "#Put it into alphabetical order\n",
        "friends.sort()\n",
        "print(friends)"
      ],
      "execution_count": 39,
      "outputs": [
        {
          "output_type": "stream",
          "text": [
            "['chris', 'emma', 'laura', 'lauren', 'sofia']\n"
          ],
          "name": "stdout"
        }
      ]
    },
    {
      "cell_type": "code",
      "metadata": {
        "id": "XLVyfBHzTv9i",
        "colab_type": "code",
        "colab": {
          "base_uri": "https://localhost:8080/",
          "height": 34
        },
        "outputId": "f1b02227-b44d-4c31-9649-bcb97f697da5"
      },
      "source": [
        "#Puts numbers into ascending\n",
        "lucky_numbers.sort()\n",
        "print(lucky_numbers)"
      ],
      "execution_count": 41,
      "outputs": [
        {
          "output_type": "stream",
          "text": [
            "[2, 4, 4, 32, 42, 76]\n"
          ],
          "name": "stdout"
        }
      ]
    },
    {
      "cell_type": "code",
      "metadata": {
        "id": "zM7KFZSrT6wQ",
        "colab_type": "code",
        "colab": {
          "base_uri": "https://localhost:8080/",
          "height": 34
        },
        "outputId": "e199f80c-299e-49a9-af15-3d111814a520"
      },
      "source": [
        "#Reverse list\n",
        "lucky_numbers.reverse()\n",
        "print(lucky_numbers)"
      ],
      "execution_count": 42,
      "outputs": [
        {
          "output_type": "stream",
          "text": [
            "[76, 42, 32, 4, 4, 2]\n"
          ],
          "name": "stdout"
        }
      ]
    },
    {
      "cell_type": "code",
      "metadata": {
        "id": "_uKXPazrUBbI",
        "colab_type": "code",
        "colab": {
          "base_uri": "https://localhost:8080/",
          "height": 34
        },
        "outputId": "4c3216b9-63f1-488a-e60b-198468c4f7b4"
      },
      "source": [
        "#Can also copy lists\n",
        "friends2 = friends.copy()\n",
        "print(friends2)"
      ],
      "execution_count": 44,
      "outputs": [
        {
          "output_type": "stream",
          "text": [
            "['chris', 'emma', 'laura', 'lauren', 'sofia']\n"
          ],
          "name": "stdout"
        }
      ]
    },
    {
      "cell_type": "markdown",
      "metadata": {
        "id": "RYZr1L9cUMBr",
        "colab_type": "text"
      },
      "source": [
        "# Tuples\n",
        "\n",
        "Container that we can store different values. We can store multiple pieces of information. \n",
        "\n",
        "These are IMMUTABLE- cannot be change or modified. ONce you create it, you can't change it."
      ]
    },
    {
      "cell_type": "code",
      "metadata": {
        "id": "j1CYleJbUHG4",
        "colab_type": "code",
        "colab": {
          "base_uri": "https://localhost:8080/",
          "height": 68
        },
        "outputId": "40d896a2-189b-4d0a-ed84-af5b12b6dedf"
      },
      "source": [
        "#Tuple with cooridnates in it\n",
        "coordinates = (4, 5)\n",
        "print(coordinates[0])\n",
        "print(coordinates[1])\n",
        "tuple3 = (3,4,5,6)\n",
        "print(tuple3[3])"
      ],
      "execution_count": 49,
      "outputs": [
        {
          "output_type": "stream",
          "text": [
            "4\n",
            "5\n",
            "6\n"
          ],
          "name": "stdout"
        }
      ]
    },
    {
      "cell_type": "markdown",
      "metadata": {
        "id": "wsBhBZ3DVauG",
        "colab_type": "text"
      },
      "source": [
        "# Functions\n",
        "\n",
        "Collection of code that performs a specific task"
      ]
    },
    {
      "cell_type": "code",
      "metadata": {
        "id": "jUneUiF5UriR",
        "colab_type": "code",
        "colab": {}
      },
      "source": [
        "def sayhi():\n",
        "    print('Hello user')"
      ],
      "execution_count": 63,
      "outputs": []
    },
    {
      "cell_type": "code",
      "metadata": {
        "id": "5odI6LIeWxvZ",
        "colab_type": "code",
        "colab": {
          "base_uri": "https://localhost:8080/",
          "height": 34
        },
        "outputId": "2b618a0b-b607-46c7-a615-59d5ee9cb3d4"
      },
      "source": [
        "sayhi()"
      ],
      "execution_count": 64,
      "outputs": [
        {
          "output_type": "stream",
          "text": [
            "Hello user\n"
          ],
          "name": "stdout"
        }
      ]
    },
    {
      "cell_type": "code",
      "metadata": {
        "id": "Wr0Lt2UfWyB3",
        "colab_type": "code",
        "colab": {}
      },
      "source": [
        "def sayhi(name):\n",
        "    print('Hello '+ name)"
      ],
      "execution_count": 69,
      "outputs": []
    },
    {
      "cell_type": "code",
      "metadata": {
        "id": "hqpscWQYV1s_",
        "colab_type": "code",
        "colab": {
          "base_uri": "https://localhost:8080/",
          "height": 68
        },
        "outputId": "80109576-5432-4c96-c0fe-8c55da0110e1"
      },
      "source": [
        "sayhi(\"julie\")\n",
        "sayhi(\"steve\")\n",
        "sayhi(\"jake\")"
      ],
      "execution_count": 71,
      "outputs": [
        {
          "output_type": "stream",
          "text": [
            "Hello julie\n",
            "Hello steve\n",
            "Hello jake\n"
          ],
          "name": "stdout"
        }
      ]
    },
    {
      "cell_type": "code",
      "metadata": {
        "id": "r00ogAIhWPNL",
        "colab_type": "code",
        "colab": {}
      },
      "source": [
        "def sayhi(name, age):\n",
        "    print('Hello '+ name + '. You are ' + age + '.')"
      ],
      "execution_count": 75,
      "outputs": []
    },
    {
      "cell_type": "code",
      "metadata": {
        "id": "32hSM61WXYTH",
        "colab_type": "code",
        "colab": {
          "base_uri": "https://localhost:8080/",
          "height": 68
        },
        "outputId": "2b5e8e82-4a9f-4847-f56e-4b9bc2e97ddf"
      },
      "source": [
        "sayhi(\"Rob\", \"32\")\n",
        "sayhi(\"Lauren\", \"2\")\n",
        "sayhi(\"Jake\", \"33\")"
      ],
      "execution_count": 77,
      "outputs": [
        {
          "output_type": "stream",
          "text": [
            "Hello Rob. You are 32.\n",
            "Hello Lauren. You are 2.\n",
            "Hello Jake. You are 33.\n"
          ],
          "name": "stdout"
        }
      ]
    },
    {
      "cell_type": "code",
      "metadata": {
        "id": "qLLCMHPFXaXt",
        "colab_type": "code",
        "colab": {}
      },
      "source": [
        "def sayhi(name, age):\n",
        "    print('Hello '+ name + '. You are ' + str(age) + '.')"
      ],
      "execution_count": 78,
      "outputs": []
    },
    {
      "cell_type": "code",
      "metadata": {
        "id": "WsPLmaibXnuC",
        "colab_type": "code",
        "colab": {
          "base_uri": "https://localhost:8080/",
          "height": 34
        },
        "outputId": "fd5bac06-c317-48a7-c2cf-b34c127a2018"
      },
      "source": [
        "sayhi(\"Rob\", 32)"
      ],
      "execution_count": 79,
      "outputs": [
        {
          "output_type": "stream",
          "text": [
            "Hello Rob. You are 32.\n"
          ],
          "name": "stdout"
        }
      ]
    },
    {
      "cell_type": "markdown",
      "metadata": {
        "id": "4bBfng1oXtq3",
        "colab_type": "text"
      },
      "source": [
        "# Return Statement"
      ]
    },
    {
      "cell_type": "code",
      "metadata": {
        "id": "HoTnfDoMXpb4",
        "colab_type": "code",
        "colab": {}
      },
      "source": [
        "def cube(x):\n",
        "  result = x*x*x\n",
        "  return result"
      ],
      "execution_count": 88,
      "outputs": []
    },
    {
      "cell_type": "code",
      "metadata": {
        "id": "3CICBgzuYJ4-",
        "colab_type": "code",
        "colab": {
          "base_uri": "https://localhost:8080/",
          "height": 51
        },
        "outputId": "af16b5cd-fe3f-47cb-8ef3-5e0f9a8b5749"
      },
      "source": [
        "print(cube(3))\n",
        "print(cube(9))"
      ],
      "execution_count": 89,
      "outputs": [
        {
          "output_type": "stream",
          "text": [
            "27\n",
            "729\n"
          ],
          "name": "stdout"
        }
      ]
    },
    {
      "cell_type": "markdown",
      "metadata": {
        "id": "1KWBmhDCvPAJ",
        "colab_type": "text"
      },
      "source": [
        "# If Statements"
      ]
    },
    {
      "cell_type": "code",
      "metadata": {
        "id": "b7TSotFyYKyy",
        "colab_type": "code",
        "colab": {
          "base_uri": "https://localhost:8080/",
          "height": 34
        },
        "outputId": "1ab52e23-e285-4d17-db43-6f7f8496b873"
      },
      "source": [
        "is_male = True\n",
        "is_tall = True\n",
        "\n",
        "if is_male and is_tall:\n",
        "  print(\"They are a tall male.\")\n",
        "else:\n",
        "  print(\"They are either not male or not tall or neither.\")\n"
      ],
      "execution_count": 9,
      "outputs": [
        {
          "output_type": "stream",
          "text": [
            "They are a tall male\n"
          ],
          "name": "stdout"
        }
      ]
    },
    {
      "cell_type": "code",
      "metadata": {
        "id": "j-MYGwJQv9hh",
        "colab_type": "code",
        "colab": {
          "base_uri": "https://localhost:8080/",
          "height": 34
        },
        "outputId": "65d00cfc-e0b2-46cd-824d-de764571d8ab"
      },
      "source": [
        "is_male = True\n",
        "is_tall = False\n",
        "\n",
        "if is_male and is_tall:\n",
        "  print(\"They are a tall male.\")\n",
        "elif is_male and not(is_tall):\n",
        "  print(\"They are a short male.\")\n",
        "elif not(is_male) and is_tall:\n",
        "  print(\"They are a tall female.\")\n",
        "else:\n",
        "  print(\"They are either not male or not tall or neither.\")"
      ],
      "execution_count": 12,
      "outputs": [
        {
          "output_type": "stream",
          "text": [
            "They are a short male.\n"
          ],
          "name": "stdout"
        }
      ]
    },
    {
      "cell_type": "code",
      "metadata": {
        "id": "HZcPIxy1xWDg",
        "colab_type": "code",
        "colab": {
          "base_uri": "https://localhost:8080/",
          "height": 34
        },
        "outputId": "79e2a680-c6d1-43f3-9dbb-3f992d15d768"
      },
      "source": [
        "def max_num(x,y,z):\n",
        "  if x>=y:\n",
        "    if x>=z:\n",
        "      print(str(x) + \" is the biggest\")\n",
        "  elif y>=z:\n",
        "    print(str(y) + \" is the biggest\")\n",
        "  else:\n",
        "    print(str(z) + \" is the biggest\")\n",
        "\n",
        "max_num(9,15,24)"
      ],
      "execution_count": 22,
      "outputs": [
        {
          "output_type": "stream",
          "text": [
            "24 is the biggest\n"
          ],
          "name": "stdout"
        }
      ]
    },
    {
      "cell_type": "code",
      "metadata": {
        "id": "fcucuNZe1ub9",
        "colab_type": "code",
        "colab": {
          "base_uri": "https://localhost:8080/",
          "height": 34
        },
        "outputId": "a65691e3-d124-49bd-97a2-89bf6f660700"
      },
      "source": [
        "def max_num(x,y,z):\n",
        "  if x>=y and x>=z:\n",
        "    return x\n",
        "  elif y>=z:\n",
        "    return y\n",
        "  else:\n",
        "    return z\n",
        "\n",
        "print(str(max_num(9,150,24)) + \" is the biggest\")"
      ],
      "execution_count": 28,
      "outputs": [
        {
          "output_type": "stream",
          "text": [
            "150 is the biggest\n"
          ],
          "name": "stdout"
        }
      ]
    },
    {
      "cell_type": "code",
      "metadata": {
        "id": "fOqdHxP8DgLH",
        "colab_type": "code",
        "colab": {}
      },
      "source": [
        "#Comparison operators\n",
        "==\n",
        "!=\n",
        ">= \n",
        "<=\n",
        "<\n",
        ">"
      ],
      "execution_count": null,
      "outputs": []
    },
    {
      "cell_type": "code",
      "metadata": {
        "id": "gUfKDrEjEg5L",
        "colab_type": "code",
        "colab": {
          "base_uri": "https://localhost:8080/",
          "height": 85
        },
        "outputId": "a8d5b3dd-42c9-4923-9b18-7468fad70554"
      },
      "source": [
        "#Building a better calculator\n",
        "num1 = float(input(\"Enter first number: \"))\n",
        "op = input(\"Enter operator: \")\n",
        "num2 = float(input(\"Enter second number: \"))\n",
        "\n",
        "\n",
        "if op == \"*\":\n",
        "    print(num1*num2)\n",
        "elif op == \"+\":\n",
        "    print(num1+num2)\n",
        "elif op == \"-\":\n",
        "    print(num1-num2)\n",
        "elif op == \"/\":\n",
        "    print(num1/num2)\n",
        "else:\n",
        "  print(\"Your inputs were invalid.\")"
      ],
      "execution_count": 36,
      "outputs": [
        {
          "output_type": "stream",
          "text": [
            "Enter first number: 7\n",
            "Enter operator: *\n",
            "Enter second number: 9\n",
            "63.0\n"
          ],
          "name": "stdout"
        }
      ]
    },
    {
      "cell_type": "markdown",
      "metadata": {
        "id": "9UexRBZNG-D5",
        "colab_type": "text"
      },
      "source": [
        "# Dictionaries"
      ]
    },
    {
      "cell_type": "code",
      "metadata": {
        "id": "iF3GkTQ8FMwL",
        "colab_type": "code",
        "colab": {}
      },
      "source": [
        "#Create it inside curly brackets\n",
        "#All keys have to be unique\n",
        "#Can use numbers or any data type as a key\n",
        "\n",
        "monthConversions = {\n",
        "    \"Jan\":\"January\",\n",
        "    \"Feb\":\"Feburary\",\n",
        "    \"Mar\":\"March\",\n",
        "    \"Apr\":\"April\",\n",
        "    \"May\":\"May\",\n",
        "    \"Jun\":\"June\",\n",
        "    \"Jul\":\"July\",\n",
        "    \"Aug\":\"August\",\n",
        "    \"Sep\":\"September\",\n",
        "    \"Oct\":\"October\",\n",
        "    \"Nov\":\"November\",\n",
        "    \"Dec\":\"December\",\n",
        "}"
      ],
      "execution_count": 45,
      "outputs": []
    },
    {
      "cell_type": "code",
      "metadata": {
        "id": "LM1H_sD9FvbS",
        "colab_type": "code",
        "colab": {
          "base_uri": "https://localhost:8080/",
          "height": 102
        },
        "outputId": "124ed2b0-e299-4809-fe06-44ae1d0ee431"
      },
      "source": [
        "print(monthConversions[\"Nov\"])\n",
        "print(monthConversions[\"Mar\"])\n",
        "#print(monthConversions[\"Luv\"])\n",
        "\n",
        "#Can also use get, can specify default value if no value is found instead of error\n",
        "print(monthConversions.get(\"Dec\"))\n",
        "print(monthConversions.get(\"Luv\"))\n",
        "print(monthConversions.get(\"Luv\", \"Not a valid key\"))"
      ],
      "execution_count": 44,
      "outputs": [
        {
          "output_type": "stream",
          "text": [
            "November\n",
            "March\n",
            "December\n",
            "None\n",
            "Not a valid key\n"
          ],
          "name": "stdout"
        }
      ]
    },
    {
      "cell_type": "code",
      "metadata": {
        "id": "P3wlysIXH1uO",
        "colab_type": "code",
        "colab": {}
      },
      "source": [
        ""
      ],
      "execution_count": null,
      "outputs": []
    }
  ]
}