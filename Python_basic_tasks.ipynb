{
  "nbformat": 4,
  "nbformat_minor": 0,
  "metadata": {
    "colab": {
      "name": "Python basic tasks.ipynb",
      "provenance": [],
      "authorship_tag": "ABX9TyNoGnkknN93/gV9sAUhU1np",
      "include_colab_link": true
    },
    "kernelspec": {
      "name": "python3",
      "display_name": "Python 3"
    }
  },
  "cells": [
    {
      "cell_type": "markdown",
      "metadata": {
        "id": "view-in-github",
        "colab_type": "text"
      },
      "source": [
        "<a href=\"https://colab.research.google.com/github/michelleruas/Variance_Machine_Learning_Project/blob/master/Python_basic_tasks.ipynb\" target=\"_parent\"><img src=\"https://colab.research.google.com/assets/colab-badge.svg\" alt=\"Open In Colab\"/></a>"
      ]
    },
    {
      "cell_type": "code",
      "metadata": {
        "id": "NblTm6MK-QfT",
        "colab_type": "code",
        "colab": {
          "base_uri": "https://localhost:8080/",
          "height": 102
        },
        "outputId": "ca744095-9820-4fd5-f0ec-1c077e19768e"
      },
      "source": [
        "#Printing a shape\n",
        "print(\"    /| \")\n",
        "print(\"   / |\")\n",
        "print(\"  /  |\")\n",
        "print(\" /   |\")\n",
        "print(\"/____|\")"
      ],
      "execution_count": null,
      "outputs": [
        {
          "output_type": "stream",
          "text": [
            "    /| \n",
            "   / |\n",
            "  /  |\n",
            " /   |\n",
            "/____|\n"
          ],
          "name": "stdout"
        }
      ]
    },
    {
      "cell_type": "code",
      "metadata": {
        "id": "vaDEuJbQ_OM0",
        "colab_type": "code",
        "colab": {
          "base_uri": "https://localhost:8080/",
          "height": 85
        },
        "outputId": "ee9ea640-c3cc-4a6d-aafa-5c0c3a27dd4a"
      },
      "source": [
        "#Printing strings\n",
        "character_name = \"John\"\n",
        "character_age = \"35\"\n",
        "print(\"There once was a man named \" + character_name + \",\")\n",
        "print(\"he was \"+ character_age + \" years old,\")\n",
        "print(\"he really liked the name \"+ character_name + \",\")\n",
        "print(\"he didn't like being \"+ character_age + \".\")\n"
      ],
      "execution_count": null,
      "outputs": [
        {
          "output_type": "stream",
          "text": [
            "There once was a man named John,\n",
            "he was 35 years old,\n",
            "he really liked the name John,\n",
            "he didn't like being 35.\n"
          ],
          "name": "stdout"
        }
      ]
    },
    {
      "cell_type": "code",
      "metadata": {
        "id": "igLaeRMTCKwF",
        "colab_type": "code",
        "colab": {
          "base_uri": "https://localhost:8080/",
          "height": 187
        },
        "outputId": "03cef0b8-c655-472a-b3ea-5490be22850c"
      },
      "source": [
        "#String methods\n",
        "phrase = \"Giraffe Academy\"\n",
        "print(phrase.lower())\n",
        "print(phrase.upper())\n",
        "print(phrase.isupper())\n",
        "print(phrase.upper().isupper())\n",
        "print(len(phrase))\n",
        "print(phrase[0])\n",
        "print(phrase[-1])\n",
        "print(phrase[3:6])\n",
        "\n",
        "#Passing a parameter\n",
        "print(phrase.index(\"A\"))\n",
        "print(phrase.replace(\"Giraffe\", \"Elephant\"))"
      ],
      "execution_count": null,
      "outputs": [
        {
          "output_type": "stream",
          "text": [
            "giraffe academy\n",
            "GIRAFFE ACADEMY\n",
            "False\n",
            "True\n",
            "15\n",
            "G\n",
            "y\n",
            "aff\n",
            "8\n",
            "Elephant Academy\n"
          ],
          "name": "stdout"
        }
      ]
    },
    {
      "cell_type": "code",
      "metadata": {
        "id": "LVp3mHovHP3w",
        "colab_type": "code",
        "colab": {
          "base_uri": "https://localhost:8080/",
          "height": 255
        },
        "outputId": "4366f3c7-dbd9-42d6-9487-c930ff509500"
      },
      "source": [
        "#Using numbers\n",
        "num = 0.384\n",
        "print(num)\n",
        "print(type(num))\n",
        "\n",
        "num = 3\n",
        "print(num)\n",
        "print(type(num))\n",
        "\n",
        "num = -100\n",
        "print(num)\n",
        "print(type(num))\n",
        "\n",
        "print(2*(8+3))\n",
        "print(10 % 3)\n",
        "\n",
        "print(str(num))\n",
        "print(type(str(num)))\n",
        "\n",
        "#4ˆ6\n",
        "print(pow(4,6))\n",
        "#Returns max and min\n",
        "print(max(4,6))\n",
        "print(min(4,6))\n",
        "#Round\n",
        "print(round(4.346))"
      ],
      "execution_count": null,
      "outputs": [
        {
          "output_type": "stream",
          "text": [
            "0.384\n",
            "<class 'float'>\n",
            "3\n",
            "<class 'int'>\n",
            "-100\n",
            "<class 'int'>\n",
            "22\n",
            "1\n",
            "-100\n",
            "<class 'str'>\n",
            "4096\n",
            "6\n",
            "4\n",
            "4\n"
          ],
          "name": "stdout"
        }
      ]
    },
    {
      "cell_type": "code",
      "metadata": {
        "id": "PP0dId4jI8pj",
        "colab_type": "code",
        "colab": {
          "base_uri": "https://localhost:8080/",
          "height": 68
        },
        "outputId": "1f1e9b6e-c075-41c7-96d6-2d1ebfaaca88"
      },
      "source": [
        "#Using the math module\n",
        "from math import *\n",
        "\n",
        "print(floor(3.7))\n",
        "print(ceil(3.7))\n",
        "print(sqrt(3.7))"
      ],
      "execution_count": null,
      "outputs": [
        {
          "output_type": "stream",
          "text": [
            "3\n",
            "4\n",
            "1.9235384061671346\n"
          ],
          "name": "stdout"
        }
      ]
    },
    {
      "cell_type": "code",
      "metadata": {
        "id": "RXcXze63JiKE",
        "colab_type": "code",
        "colab": {
          "base_uri": "https://localhost:8080/",
          "height": 68
        },
        "outputId": "23b6dc7a-53fc-4157-a88a-30e694149d5a"
      },
      "source": [
        "#Getting input from a user\n",
        "name = input(\"Enter your name: \")\n",
        "age = input(\"Enter your age: \")\n",
        "print(\"Hi \"+name + ', you are '+age)"
      ],
      "execution_count": null,
      "outputs": [
        {
          "output_type": "stream",
          "text": [
            "Enter your name: shell\n",
            "Enter your age: 23\n",
            "Hi shell, you are 23\n"
          ],
          "name": "stdout"
        }
      ]
    },
    {
      "cell_type": "code",
      "metadata": {
        "id": "kwRCZDO0Js71",
        "colab_type": "code",
        "colab": {
          "base_uri": "https://localhost:8080/",
          "height": 68
        },
        "outputId": "ab0f759b-f90d-4454-a6b0-4d187cc6c8b8"
      },
      "source": [
        "#Build a calculator\n",
        "num1 = input('Enter a number: ')\n",
        "num2 = input('Enter another number: ')\n",
        "result = float(num1) + float(num2)\n",
        "print('The sum is: ' + str(result))"
      ],
      "execution_count": null,
      "outputs": [
        {
          "output_type": "stream",
          "text": [
            "Enter a number: 4.5\n",
            "Enter another number: 6\n",
            "The sum is: 10.5\n"
          ],
          "name": "stdout"
        }
      ]
    },
    {
      "cell_type": "code",
      "metadata": {
        "id": "21Uk4MHOL2YG",
        "colab_type": "code",
        "colab": {
          "base_uri": "https://localhost:8080/",
          "height": 119
        },
        "outputId": "57a770f2-d94c-45d4-b374-174d5765eb84"
      },
      "source": [
        "#Mad libs game\n",
        "\n",
        "color = input('Enter a color: ')\n",
        "plural_noun = input('Enter a plural noun: ')\n",
        "celebrity = input('Enter a celebrity: ')\n",
        "\n",
        "print('Roses are ' + color)\n",
        "print(plural_noun + ' are blue')\n",
        "print('I love ' + celebrity)"
      ],
      "execution_count": 1,
      "outputs": [
        {
          "output_type": "stream",
          "text": [
            "Enter a color: green\n",
            "Enter a plural noun: cars\n",
            "Enter a celebrity: Rob Pattinson\n",
            "Roses are green\n",
            "cars are blue\n",
            "I love Rob Pattinson\n"
          ],
          "name": "stdout"
        }
      ]
    },
    {
      "cell_type": "code",
      "metadata": {
        "id": "thZdgeMpblLz",
        "colab_type": "code",
        "colab": {}
      },
      "source": [
        "#Lists, first thing would be to give it a descriptive name\n",
        "#Can put any piece of information into a list\n",
        "friends = [\"laura\", \"emma\", \"lauren\", \"sofia\", \"chris\", \"ben\"]\n"
      ],
      "execution_count": 20,
      "outputs": []
    },
    {
      "cell_type": "code",
      "metadata": {
        "id": "IFzO0mD5b98P",
        "colab_type": "code",
        "colab": {
          "base_uri": "https://localhost:8080/",
          "height": 85
        },
        "outputId": "33e54dcc-309e-4092-be3c-d7de6b007a93"
      },
      "source": [
        "#See elements\n",
        "print(friends[3])\n",
        "print(friends[-1])\n",
        "print(friends[1:])\n",
        "print(friends[2:4])"
      ],
      "execution_count": 21,
      "outputs": [
        {
          "output_type": "stream",
          "text": [
            "sofia\n",
            "ben\n",
            "['emma', 'lauren', 'sofia', 'chris', 'ben']\n",
            "['lauren', 'sofia']\n"
          ],
          "name": "stdout"
        }
      ]
    },
    {
      "cell_type": "code",
      "metadata": {
        "id": "8Pq3hNLIb_AH",
        "colab_type": "code",
        "colab": {
          "base_uri": "https://localhost:8080/",
          "height": 51
        },
        "outputId": "bf735183-fd77-46a1-aae6-4ac546785a86"
      },
      "source": [
        "#Modify elements\n",
        "print(friends)\n",
        "friends[1] = \"Andrew\"\n",
        "print(friends)"
      ],
      "execution_count": 22,
      "outputs": [
        {
          "output_type": "stream",
          "text": [
            "['laura', 'emma', 'lauren', 'sofia', 'chris', 'ben']\n",
            "['laura', 'Andrew', 'lauren', 'sofia', 'chris', 'ben']\n"
          ],
          "name": "stdout"
        }
      ]
    },
    {
      "cell_type": "code",
      "metadata": {
        "id": "2D7NjflhdO_m",
        "colab_type": "code",
        "colab": {
          "base_uri": "https://localhost:8080/",
          "height": 68
        },
        "outputId": "eefe28e6-647f-4d1b-cb3f-ab0c5cd709d0"
      },
      "source": [
        "#List properties and functions\n",
        "lucky_numbers = [4,2,4,32,42,76]\n",
        "friends = [\"laura\", \"emma\", \"lauren\", \"sofia\", \"chris\", \"ben\"]\n",
        "\n",
        "print(friends)\n",
        "print(lucky_numbers)\n",
        "\n",
        "#Append to the end of the list\n",
        "friends.extend(lucky_numbers)\n",
        "print(friends)"
      ],
      "execution_count": 26,
      "outputs": [
        {
          "output_type": "stream",
          "text": [
            "['laura', 'emma', 'lauren', 'sofia', 'chris', 'ben']\n",
            "[4, 2, 4, 32, 42, 76]\n",
            "['laura', 'emma', 'lauren', 'sofia', 'chris', 'ben', 4, 2, 4, 32, 42, 76]\n"
          ],
          "name": "stdout"
        }
      ]
    },
    {
      "cell_type": "code",
      "metadata": {
        "id": "ZuIX7V9OgdDE",
        "colab_type": "code",
        "colab": {}
      },
      "source": [
        ""
      ],
      "execution_count": null,
      "outputs": []
    }
  ]
}