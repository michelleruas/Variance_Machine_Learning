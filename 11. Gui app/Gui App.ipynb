{
 "cells": [
  {
   "cell_type": "code",
   "execution_count": 3,
   "metadata": {},
   "outputs": [],
   "source": [
    "import tkinter as tk\n",
    "from tkinter import filedialog, Text\n",
    "import os\n",
    "\n",
    "root = tk.Tk()\n",
    "canvas = tk.Canvas(root, height=700, width=700, bg=\"#263D42\")\n",
    "canvas.pack()\n",
    "\n",
    "frame = tk.Frame(root, bg = \"white\")\n",
    "frame.place(relwidth = 0.8, relheight=0.8, relx = 0.1, rely= 0.1)\n",
    "\n",
    "openFile = tk.Button(root, text=\"Open File\", padx = 10, pady=5, fg=\"white\", bg=\"#263D42\")\n",
    "openFile.pack()\n",
    "\n",
    "runApps = tk.Button(root, text=\"Run Apps\", padx = 10, pady=5, fg=\"white\", bg=\"#263D42\")\n",
    "runApps.pack()\n",
    "\n",
    "root.mainloop()"
   ]
  },
  {
   "cell_type": "code",
   "execution_count": 4,
   "metadata": {},
   "outputs": [],
   "source": []
  },
  {
   "cell_type": "code",
   "execution_count": null,
   "metadata": {},
   "outputs": [],
   "source": []
  },
  {
   "cell_type": "code",
   "execution_count": null,
   "metadata": {},
   "outputs": [],
   "source": []
  }
 ],
 "metadata": {
  "kernelspec": {
   "display_name": "Python 3",
   "language": "python",
   "name": "python3"
  },
  "language_info": {
   "codemirror_mode": {
    "name": "ipython",
    "version": 3
   },
   "file_extension": ".py",
   "mimetype": "text/x-python",
   "name": "python",
   "nbconvert_exporter": "python",
   "pygments_lexer": "ipython3",
   "version": "3.7.6"
  }
 },
 "nbformat": 4,
 "nbformat_minor": 4
}
