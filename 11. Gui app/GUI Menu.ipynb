{
 "cells": [
  {
   "cell_type": "code",
   "execution_count": 2,
   "metadata": {},
   "outputs": [],
   "source": [
    "from tkinter import *\n",
    "\n",
    "class Example(Frame):\n",
    "\n",
    "    def __init__(self, parent):\n",
    "        Frame.__init__(self, parent)\n",
    "        self.parent = parent\n",
    "        self.initUI()\n",
    "\n",
    "    def initUI(self):\n",
    "\n",
    "        self.parent.title(\"Simple Menu\")\n",
    "        menubar = Menu(self.parent)\n",
    "        self.parent.config(menu = menubar)\n",
    "        filemenu = Menu(menubar)\n",
    "        filemenu.add_command(label = \"Exit\", command = self.onExit)\n",
    "        menubar.add_cascade(label = \"File\", menu = filemenu)\n",
    "\n",
    "    def onExit(self):\n",
    "        self.quit()\n",
    "\n",
    "def main():\n",
    "    root = Tk()\n",
    "    root.geometry(\"250x150+300+300\")\n",
    "    app = Example(root)\n",
    "    root.mainloop()\n",
    "\n",
    "\n",
    "if __name__ == '__main__':\n",
    "    main()"
   ]
  },
  {
   "cell_type": "code",
   "execution_count": null,
   "metadata": {},
   "outputs": [],
   "source": []
  }
 ],
 "metadata": {
  "kernelspec": {
   "display_name": "Python 3",
   "language": "python",
   "name": "python3"
  },
  "language_info": {
   "codemirror_mode": {
    "name": "ipython",
    "version": 3
   },
   "file_extension": ".py",
   "mimetype": "text/x-python",
   "name": "python",
   "nbconvert_exporter": "python",
   "pygments_lexer": "ipython3",
   "version": "3.7.1"
  }
 },
 "nbformat": 4,
 "nbformat_minor": 2
}
