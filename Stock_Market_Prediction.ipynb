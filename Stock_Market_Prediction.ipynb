{
  "nbformat": 4,
  "nbformat_minor": 0,
  "metadata": {
    "colab": {
      "name": "Stock Market Prediction.ipynb",
      "provenance": [],
      "authorship_tag": "ABX9TyOmAdhnsopmE6QAj195hRvu",
      "include_colab_link": true
    },
    "kernelspec": {
      "name": "python3",
      "display_name": "Python 3"
    }
  },
  "cells": [
    {
      "cell_type": "markdown",
      "metadata": {
        "id": "view-in-github",
        "colab_type": "text"
      },
      "source": [
        "<a href=\"https://colab.research.google.com/github/michelleruas/Variance_Machine_Learning_Project/blob/master/Stock_Market_Prediction.ipynb\" target=\"_parent\"><img src=\"https://colab.research.google.com/assets/colab-badge.svg\" alt=\"Open In Colab\"/></a>"
      ]
    },
    {
      "cell_type": "markdown",
      "metadata": {
        "id": "Bk6PWTWPRn51",
        "colab_type": "text"
      },
      "source": [
        "# Stock Market Prediction Algorithm"
      ]
    },
    {
      "cell_type": "code",
      "metadata": {
        "id": "3gGtgAPIRk0P",
        "colab_type": "code",
        "colab": {}
      },
      "source": [
        "#Install libraries\n",
        "import numpy as np\n",
        "import pandas as pd\n",
        "from sklearn.tree import DecisionTreeRegressor\n",
        "from sklearn.linear_model import LinearRegression\n",
        "from sklearn.model_selection import train_test_split\n",
        "import matplotlib.pyplot as plt\n",
        "plt.style.use('bmh')"
      ],
      "execution_count": 1,
      "outputs": []
    },
    {
      "cell_type": "code",
      "metadata": {
        "id": "cjX4NLzFSAF2",
        "colab_type": "code",
        "colab": {
          "resources": {
            "http://localhost:8080/nbextensions/google.colab/files.js": {
              "data": "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",
              "ok": true,
              "headers": [
                [
                  "content-type",
                  "application/javascript"
                ]
              ],
              "status": 200,
              "status_text": ""
            }
          },
          "base_uri": "https://localhost:8080/",
          "height": 72
        },
        "outputId": "b440e0ae-448a-429c-e29c-443ad4af51a8"
      },
      "source": [
        "#Load the stock data\n",
        "from google.colab import files\n",
        "uploaded = files.upload()"
      ],
      "execution_count": 12,
      "outputs": [
        {
          "output_type": "display_data",
          "data": {
            "text/html": [
              "\n",
              "     <input type=\"file\" id=\"files-ed6f6fb2-4ece-4f7f-bd43-fc01543c9b38\" name=\"files[]\" multiple disabled\n",
              "        style=\"border:none\" />\n",
              "     <output id=\"result-ed6f6fb2-4ece-4f7f-bd43-fc01543c9b38\">\n",
              "      Upload widget is only available when the cell has been executed in the\n",
              "      current browser session. Please rerun this cell to enable.\n",
              "      </output>\n",
              "      <script src=\"/nbextensions/google.colab/files.js\"></script> "
            ],
            "text/plain": [
              "<IPython.core.display.HTML object>"
            ]
          },
          "metadata": {
            "tags": []
          }
        },
        {
          "output_type": "stream",
          "text": [
            "Saving NFLX.csv to NFLX.csv\n"
          ],
          "name": "stdout"
        }
      ]
    },
    {
      "cell_type": "code",
      "metadata": {
        "id": "crA4Lm9BSGgm",
        "colab_type": "code",
        "colab": {
          "base_uri": "https://localhost:8080/",
          "height": 235
        },
        "outputId": "6401714f-2bff-4ee6-db4c-a19ecbca113d"
      },
      "source": [
        "#Store data\n",
        "df = pd.read_csv('NFLX.csv')\n",
        "df.head(6)"
      ],
      "execution_count": 16,
      "outputs": [
        {
          "output_type": "execute_result",
          "data": {
            "text/html": [
              "<div>\n",
              "<style scoped>\n",
              "    .dataframe tbody tr th:only-of-type {\n",
              "        vertical-align: middle;\n",
              "    }\n",
              "\n",
              "    .dataframe tbody tr th {\n",
              "        vertical-align: top;\n",
              "    }\n",
              "\n",
              "    .dataframe thead th {\n",
              "        text-align: right;\n",
              "    }\n",
              "</style>\n",
              "<table border=\"1\" class=\"dataframe\">\n",
              "  <thead>\n",
              "    <tr style=\"text-align: right;\">\n",
              "      <th></th>\n",
              "      <th>Date</th>\n",
              "      <th>Open</th>\n",
              "      <th>High</th>\n",
              "      <th>Low</th>\n",
              "      <th>Close</th>\n",
              "      <th>Adj Close</th>\n",
              "      <th>Volume</th>\n",
              "    </tr>\n",
              "  </thead>\n",
              "  <tbody>\n",
              "    <tr>\n",
              "      <th>0</th>\n",
              "      <td>2019-08-12</td>\n",
              "      <td>305.459991</td>\n",
              "      <td>312.890015</td>\n",
              "      <td>303.239990</td>\n",
              "      <td>310.829987</td>\n",
              "      <td>310.829987</td>\n",
              "      <td>6531700</td>\n",
              "    </tr>\n",
              "    <tr>\n",
              "      <th>1</th>\n",
              "      <td>2019-08-13</td>\n",
              "      <td>309.769989</td>\n",
              "      <td>316.429993</td>\n",
              "      <td>308.160004</td>\n",
              "      <td>312.279999</td>\n",
              "      <td>312.279999</td>\n",
              "      <td>5289400</td>\n",
              "    </tr>\n",
              "    <tr>\n",
              "      <th>2</th>\n",
              "      <td>2019-08-14</td>\n",
              "      <td>308.010010</td>\n",
              "      <td>308.410004</td>\n",
              "      <td>298.010010</td>\n",
              "      <td>299.109985</td>\n",
              "      <td>299.109985</td>\n",
              "      <td>7355800</td>\n",
              "    </tr>\n",
              "    <tr>\n",
              "      <th>3</th>\n",
              "      <td>2019-08-15</td>\n",
              "      <td>299.500000</td>\n",
              "      <td>300.630005</td>\n",
              "      <td>288.000000</td>\n",
              "      <td>295.760010</td>\n",
              "      <td>295.760010</td>\n",
              "      <td>9629200</td>\n",
              "    </tr>\n",
              "    <tr>\n",
              "      <th>4</th>\n",
              "      <td>2019-08-16</td>\n",
              "      <td>298.859985</td>\n",
              "      <td>303.549988</td>\n",
              "      <td>296.269989</td>\n",
              "      <td>302.799988</td>\n",
              "      <td>302.799988</td>\n",
              "      <td>6905800</td>\n",
              "    </tr>\n",
              "    <tr>\n",
              "      <th>5</th>\n",
              "      <td>2019-08-19</td>\n",
              "      <td>306.250000</td>\n",
              "      <td>311.750000</td>\n",
              "      <td>304.750000</td>\n",
              "      <td>309.380005</td>\n",
              "      <td>309.380005</td>\n",
              "      <td>4942200</td>\n",
              "    </tr>\n",
              "  </tbody>\n",
              "</table>\n",
              "</div>"
            ],
            "text/plain": [
              "         Date        Open        High  ...       Close   Adj Close   Volume\n",
              "0  2019-08-12  305.459991  312.890015  ...  310.829987  310.829987  6531700\n",
              "1  2019-08-13  309.769989  316.429993  ...  312.279999  312.279999  5289400\n",
              "2  2019-08-14  308.010010  308.410004  ...  299.109985  299.109985  7355800\n",
              "3  2019-08-15  299.500000  300.630005  ...  295.760010  295.760010  9629200\n",
              "4  2019-08-16  298.859985  303.549988  ...  302.799988  302.799988  6905800\n",
              "5  2019-08-19  306.250000  311.750000  ...  309.380005  309.380005  4942200\n",
              "\n",
              "[6 rows x 7 columns]"
            ]
          },
          "metadata": {
            "tags": []
          },
          "execution_count": 16
        }
      ]
    },
    {
      "cell_type": "code",
      "metadata": {
        "id": "cBSp-OcyTRm2",
        "colab_type": "code",
        "colab": {
          "base_uri": "https://localhost:8080/",
          "height": 34
        },
        "outputId": "541640fa-dd7f-4c28-d95d-ea5e2cd0ad1f"
      },
      "source": [
        "#Get the number of trading days\n",
        "df.shape"
      ],
      "execution_count": 17,
      "outputs": [
        {
          "output_type": "execute_result",
          "data": {
            "text/plain": [
              "(254, 7)"
            ]
          },
          "metadata": {
            "tags": []
          },
          "execution_count": 17
        }
      ]
    },
    {
      "cell_type": "code",
      "metadata": {
        "id": "SEEzC2NGTZdn",
        "colab_type": "code",
        "colab": {
          "base_uri": "https://localhost:8080/",
          "height": 513
        },
        "outputId": "c53d0b19-a06d-41c7-a886-d57df9095138"
      },
      "source": [
        "#Visualise the close price data\n",
        "plt.figure(figsize = (16,8))\n",
        "plt.title('Netflix')\n",
        "plt.xlabel('Days')\n",
        "plt.ylabel('Close Price USD ($)')\n",
        "plt.plot(df['Close'])\n",
        "plt.show()"
      ],
      "execution_count": 20,
      "outputs": [
        {
          "output_type": "display_data",
          "data": {
            "image/png": "[encoded data removed]",
            "text/plain": [
              "<Figure size 1152x576 with 1 Axes>"
            ]
          },
          "metadata": {
            "tags": [],
            "needs_background": "light"
          }
        }
      ]
    },
    {
      "cell_type": "code",
      "metadata": {
        "id": "x_llZBb8Usgm",
        "colab_type": "code",
        "colab": {
          "base_uri": "https://localhost:8080/",
          "height": 173
        },
        "outputId": "8db39b22-c5e5-46a0-c976-003c5169f1a1"
      },
      "source": [
        "#Get the close price, create new data frame\n",
        "df = df[['Close']]\n",
        "df.head(4)"
      ],
      "execution_count": 22,
      "outputs": [
        {
          "output_type": "execute_result",
          "data": {
            "text/html": [
              "<div>\n",
              "<style scoped>\n",
              "    .dataframe tbody tr th:only-of-type {\n",
              "        vertical-align: middle;\n",
              "    }\n",
              "\n",
              "    .dataframe tbody tr th {\n",
              "        vertical-align: top;\n",
              "    }\n",
              "\n",
              "    .dataframe thead th {\n",
              "        text-align: right;\n",
              "    }\n",
              "</style>\n",
              "<table border=\"1\" class=\"dataframe\">\n",
              "  <thead>\n",
              "    <tr style=\"text-align: right;\">\n",
              "      <th></th>\n",
              "      <th>Close</th>\n",
              "    </tr>\n",
              "  </thead>\n",
              "  <tbody>\n",
              "    <tr>\n",
              "      <th>0</th>\n",
              "      <td>310.829987</td>\n",
              "    </tr>\n",
              "    <tr>\n",
              "      <th>1</th>\n",
              "      <td>312.279999</td>\n",
              "    </tr>\n",
              "    <tr>\n",
              "      <th>2</th>\n",
              "      <td>299.109985</td>\n",
              "    </tr>\n",
              "    <tr>\n",
              "      <th>3</th>\n",
              "      <td>295.760010</td>\n",
              "    </tr>\n",
              "  </tbody>\n",
              "</table>\n",
              "</div>"
            ],
            "text/plain": [
              "        Close\n",
              "0  310.829987\n",
              "1  312.279999\n",
              "2  299.109985\n",
              "3  295.760010"
            ]
          },
          "metadata": {
            "tags": []
          },
          "execution_count": 22
        }
      ]
    },
    {
      "cell_type": "code",
      "metadata": {
        "id": "dFmO-Wu4U5f5",
        "colab_type": "code",
        "colab": {
          "base_uri": "https://localhost:8080/",
          "height": 275
        },
        "outputId": "485a4fb7-17c0-4bda-ce59-4cf161f020d4"
      },
      "source": [
        "#Create a variable to predict 'x' days into the future\n",
        "future_days = 25\n",
        "\n",
        "#Create new column (target) shifted 'x' units / days up\n",
        "df['Prediction'] = df[['Close']].shift(-future_days)\n",
        "df.tail(4)"
      ],
      "execution_count": 26,
      "outputs": [
        {
          "output_type": "stream",
          "text": [
            "/usr/local/lib/python3.6/dist-packages/ipykernel_launcher.py:5: SettingWithCopyWarning: \n",
            "A value is trying to be set on a copy of a slice from a DataFrame.\n",
            "Try using .loc[row_indexer,col_indexer] = value instead\n",
            "\n",
            "See the caveats in the documentation: https://pandas.pydata.org/pandas-docs/stable/user_guide/indexing.html#returning-a-view-versus-a-copy\n",
            "  \"\"\"\n"
          ],
          "name": "stderr"
        },
        {
          "output_type": "execute_result",
          "data": {
            "text/html": [
              "<div>\n",
              "<style scoped>\n",
              "    .dataframe tbody tr th:only-of-type {\n",
              "        vertical-align: middle;\n",
              "    }\n",
              "\n",
              "    .dataframe tbody tr th {\n",
              "        vertical-align: top;\n",
              "    }\n",
              "\n",
              "    .dataframe thead th {\n",
              "        text-align: right;\n",
              "    }\n",
              "</style>\n",
              "<table border=\"1\" class=\"dataframe\">\n",
              "  <thead>\n",
              "    <tr style=\"text-align: right;\">\n",
              "      <th></th>\n",
              "      <th>Close</th>\n",
              "      <th>Prediction</th>\n",
              "    </tr>\n",
              "  </thead>\n",
              "  <tbody>\n",
              "    <tr>\n",
              "      <th>250</th>\n",
              "      <td>494.730011</td>\n",
              "      <td>NaN</td>\n",
              "    </tr>\n",
              "    <tr>\n",
              "      <th>251</th>\n",
              "      <td>483.380005</td>\n",
              "      <td>NaN</td>\n",
              "    </tr>\n",
              "    <tr>\n",
              "      <th>252</th>\n",
              "      <td>466.929993</td>\n",
              "      <td>NaN</td>\n",
              "    </tr>\n",
              "    <tr>\n",
              "      <th>253</th>\n",
              "      <td>477.708405</td>\n",
              "      <td>NaN</td>\n",
              "    </tr>\n",
              "  </tbody>\n",
              "</table>\n",
              "</div>"
            ],
            "text/plain": [
              "          Close  Prediction\n",
              "250  494.730011         NaN\n",
              "251  483.380005         NaN\n",
              "252  466.929993         NaN\n",
              "253  477.708405         NaN"
            ]
          },
          "metadata": {
            "tags": []
          },
          "execution_count": 26
        }
      ]
    },
    {
      "cell_type": "code",
      "metadata": {
        "id": "87PFwAp9VYli",
        "colab_type": "code",
        "colab": {
          "base_uri": "https://localhost:8080/",
          "height": 1000
        },
        "outputId": "db43c39b-4d0a-40d7-8eb5-dd42578ad38d"
      },
      "source": [
        "#Create the feature data set (x) and convert it to a numpy array and remove the last x rows/days\n",
        "X = np.array(df.drop(['Prediction'], 1))[:-future_days]\n",
        "X"
      ],
      "execution_count": 28,
      "outputs": [
        {
          "output_type": "execute_result",
          "data": {
            "text/plain": [
              "array([[310.829987],\n",
              "       [312.279999],\n",
              "       [299.109985],\n",
              "       [295.76001 ],\n",
              "       [302.799988],\n",
              "       [309.380005],\n",
              "       [298.98999 ],\n",
              "       [297.809998],\n",
              "       [296.929993],\n",
              "       [291.440002],\n",
              "       [294.980011],\n",
              "       [291.029999],\n",
              "       [291.769989],\n",
              "       [296.779999],\n",
              "       [293.75    ],\n",
              "       [289.290009],\n",
              "       [291.519989],\n",
              "       [293.25    ],\n",
              "       [290.170013],\n",
              "       [294.339996],\n",
              "       [287.98999 ],\n",
              "       [288.269989],\n",
              "       [288.859985],\n",
              "       [294.149994],\n",
              "       [294.290009],\n",
              "       [298.600006],\n",
              "       [291.559998],\n",
              "       [286.600006],\n",
              "       [270.75    ],\n",
              "       [265.920013],\n",
              "       [254.589996],\n",
              "       [264.75    ],\n",
              "       [263.309998],\n",
              "       [263.079987],\n",
              "       [267.619995],\n",
              "       [269.579987],\n",
              "       [268.029999],\n",
              "       [268.149994],\n",
              "       [272.790009],\n",
              "       [274.459991],\n",
              "       [270.720001],\n",
              "       [267.529999],\n",
              "       [280.480011],\n",
              "       [282.929993],\n",
              "       [285.529999],\n",
              "       [284.25    ],\n",
              "       [286.279999],\n",
              "       [293.350006],\n",
              "       [275.299988],\n",
              "       [278.049988],\n",
              "       [266.690002],\n",
              "       [271.269989],\n",
              "       [271.5     ],\n",
              "       [276.820007],\n",
              "       [281.859985],\n",
              "       [281.209991],\n",
              "       [291.450012],\n",
              "       [287.410004],\n",
              "       [286.809998],\n",
              "       [292.859985],\n",
              "       [288.029999],\n",
              "       [288.589996],\n",
              "       [289.570007],\n",
              "       [291.570007],\n",
              "       [294.179993],\n",
              "       [292.01001 ],\n",
              "       [283.109985],\n",
              "       [289.619995],\n",
              "       [295.029999],\n",
              "       [302.570007],\n",
              "       [302.600006],\n",
              "       [305.160004],\n",
              "       [311.690002],\n",
              "       [310.480011],\n",
              "       [315.549988],\n",
              "       [312.48999 ],\n",
              "       [315.929993],\n",
              "       [314.660004],\n",
              "       [309.98999 ],\n",
              "       [306.160004],\n",
              "       [304.320007],\n",
              "       [302.859985],\n",
              "       [307.350006],\n",
              "       [302.5     ],\n",
              "       [293.119995],\n",
              "       [298.929993],\n",
              "       [298.440002],\n",
              "       [298.5     ],\n",
              "       [304.209991],\n",
              "       [315.480011],\n",
              "       [320.799988],\n",
              "       [332.220001],\n",
              "       [336.899994],\n",
              "       [333.100006],\n",
              "       [333.200012],\n",
              "       [332.630005],\n",
              "       [329.089996],\n",
              "       [323.309998],\n",
              "       [323.570007],\n",
              "       [329.809998],\n",
              "       [325.899994],\n",
              "       [335.829987],\n",
              "       [330.75    ],\n",
              "       [339.26001 ],\n",
              "       [335.660004],\n",
              "       [329.049988],\n",
              "       [338.920013],\n",
              "       [338.690002],\n",
              "       [339.070007],\n",
              "       [338.619995],\n",
              "       [339.670013],\n",
              "       [338.109985],\n",
              "       [326.      ],\n",
              "       [349.600006],\n",
              "       [353.160004],\n",
              "       [342.880005],\n",
              "       [348.519989],\n",
              "       [343.160004],\n",
              "       [347.73999 ],\n",
              "       [345.089996],\n",
              "       [358.      ],\n",
              "       [369.01001 ],\n",
              "       [369.670013],\n",
              "       [366.950012],\n",
              "       [366.769989],\n",
              "       [371.070007],\n",
              "       [373.690002],\n",
              "       [380.01001 ],\n",
              "       [381.399994],\n",
              "       [380.399994],\n",
              "       [387.779999],\n",
              "       [386.190002],\n",
              "       [386.      ],\n",
              "       [380.070007],\n",
              "       [368.700012],\n",
              "       [360.089996],\n",
              "       [379.23999 ],\n",
              "       [371.709991],\n",
              "       [369.029999],\n",
              "       [381.049988],\n",
              "       [368.769989],\n",
              "       [383.790009],\n",
              "       [372.779999],\n",
              "       [368.970001],\n",
              "       [346.48999 ],\n",
              "       [364.130005],\n",
              "       [349.920013],\n",
              "       [315.25    ],\n",
              "       [336.299988],\n",
              "       [298.839996],\n",
              "       [319.75    ],\n",
              "       [315.470001],\n",
              "       [332.029999],\n",
              "       [332.829987],\n",
              "       [360.269989],\n",
              "       [357.320007],\n",
              "       [342.390015],\n",
              "       [362.98999 ],\n",
              "       [357.119995],\n",
              "       [370.959991],\n",
              "       [375.5     ],\n",
              "       [364.079987],\n",
              "       [370.079987],\n",
              "       [361.76001 ],\n",
              "       [379.959991],\n",
              "       [372.279999],\n",
              "       [371.119995],\n",
              "       [370.720001],\n",
              "       [396.720001],\n",
              "       [413.549988],\n",
              "       [426.75    ],\n",
              "       [439.170013],\n",
              "       [422.959991],\n",
              "       [437.48999 ],\n",
              "       [433.829987],\n",
              "       [421.420013],\n",
              "       [426.700012],\n",
              "       [424.98999 ],\n",
              "       [421.380005],\n",
              "       [403.829987],\n",
              "       [411.890015],\n",
              "       [419.850006],\n",
              "       [415.269989],\n",
              "       [428.149994],\n",
              "       [424.679993],\n",
              "       [434.26001 ],\n",
              "       [436.529999],\n",
              "       [435.549988],\n",
              "       [440.519989],\n",
              "       [431.820007],\n",
              "       [438.269989],\n",
              "       [441.950012],\n",
              "       [454.190002],\n",
              "       [452.579987],\n",
              "       [451.040009],\n",
              "       [447.670013],\n",
              "       [436.25    ],\n",
              "       [429.320007],\n",
              "       [414.769989],\n",
              "       [419.890015],\n",
              "       [413.440002],\n",
              "       [419.730011],\n",
              "       [425.920013],\n",
              "       [427.309998],\n",
              "       [421.970001],\n",
              "       [414.329987],\n",
              "       [419.600006],\n",
              "       [419.48999 ],\n",
              "       [434.049988],\n",
              "       [434.480011],\n",
              "       [425.559998],\n",
              "       [418.070007],\n",
              "       [425.5     ],\n",
              "       [436.130005],\n",
              "       [447.769989],\n",
              "       [449.869995],\n",
              "       [453.720001],\n",
              "       [468.040009],\n",
              "       [466.26001 ],\n",
              "       [457.850006],\n",
              "       [465.910004],\n",
              "       [443.399994],\n",
              "       [447.23999 ],\n",
              "       [455.040009],\n",
              "       [485.640015],\n",
              "       [476.890015],\n",
              "       [493.809998],\n",
              "       [493.160004],\n",
              "       [502.779999]])"
            ]
          },
          "metadata": {
            "tags": []
          },
          "execution_count": 28
        }
      ]
    },
    {
      "cell_type": "code",
      "metadata": {
        "id": "Z3X3eVCCVzNx",
        "colab_type": "code",
        "colab": {
          "base_uri": "https://localhost:8080/",
          "height": 680
        },
        "outputId": "038b58d5-6d48-4645-b5b8-0bda2c0fb895"
      },
      "source": [
        "#Create target data set, convert it to a numpy array and get all target values expect x rows\n",
        "y = np.array(df['Prediction'])[:-future_days]\n",
        "print(y)"
      ],
      "execution_count": 30,
      "outputs": [
        {
          "output_type": "stream",
          "text": [
            "[298.600006 291.559998 286.600006 270.75     265.920013 254.589996\n",
            " 264.75     263.309998 263.079987 267.619995 269.579987 268.029999\n",
            " 268.149994 272.790009 274.459991 270.720001 267.529999 280.480011\n",
            " 282.929993 285.529999 284.25     286.279999 293.350006 275.299988\n",
            " 278.049988 266.690002 271.269989 271.5      276.820007 281.859985\n",
            " 281.209991 291.450012 287.410004 286.809998 292.859985 288.029999\n",
            " 288.589996 289.570007 291.570007 294.179993 292.01001  283.109985\n",
            " 289.619995 295.029999 302.570007 302.600006 305.160004 311.690002\n",
            " 310.480011 315.549988 312.48999  315.929993 314.660004 309.98999\n",
            " 306.160004 304.320007 302.859985 307.350006 302.5      293.119995\n",
            " 298.929993 298.440002 298.5      304.209991 315.480011 320.799988\n",
            " 332.220001 336.899994 333.100006 333.200012 332.630005 329.089996\n",
            " 323.309998 323.570007 329.809998 325.899994 335.829987 330.75\n",
            " 339.26001  335.660004 329.049988 338.920013 338.690002 339.070007\n",
            " 338.619995 339.670013 338.109985 326.       349.600006 353.160004\n",
            " 342.880005 348.519989 343.160004 347.73999  345.089996 358.\n",
            " 369.01001  369.670013 366.950012 366.769989 371.070007 373.690002\n",
            " 380.01001  381.399994 380.399994 387.779999 386.190002 386.\n",
            " 380.070007 368.700012 360.089996 379.23999  371.709991 369.029999\n",
            " 381.049988 368.769989 383.790009 372.779999 368.970001 346.48999\n",
            " 364.130005 349.920013 315.25     336.299988 298.839996 319.75\n",
            " 315.470001 332.029999 332.829987 360.269989 357.320007 342.390015\n",
            " 362.98999  357.119995 370.959991 375.5      364.079987 370.079987\n",
            " 361.76001  379.959991 372.279999 371.119995 370.720001 396.720001\n",
            " 413.549988 426.75     439.170013 422.959991 437.48999  433.829987\n",
            " 421.420013 426.700012 424.98999  421.380005 403.829987 411.890015\n",
            " 419.850006 415.269989 428.149994 424.679993 434.26001  436.529999\n",
            " 435.549988 440.519989 431.820007 438.269989 441.950012 454.190002\n",
            " 452.579987 451.040009 447.670013 436.25     429.320007 414.769989\n",
            " 419.890015 413.440002 419.730011 425.920013 427.309998 421.970001\n",
            " 414.329987 419.600006 419.48999  434.049988 434.480011 425.559998\n",
            " 418.070007 425.5      436.130005 447.769989 449.869995 453.720001\n",
            " 468.040009 466.26001  457.850006 465.910004 443.399994 447.23999\n",
            " 455.040009 485.640015 476.890015 493.809998 493.160004 502.779999\n",
            " 507.76001  548.72998  525.5      524.880005 523.26001  527.390015\n",
            " 492.98999  502.410004 490.100006 489.820007 477.579987 480.450012\n",
            " 495.649994 488.51001  484.480011 485.799988 488.880005 498.619995\n",
            " 509.640015 502.109985 509.079987 494.730011 483.380005 466.929993\n",
            " 477.708405]\n"
          ],
          "name": "stdout"
        }
      ]
    },
    {
      "cell_type": "code",
      "metadata": {
        "id": "XnjVa3oZWJLc",
        "colab_type": "code",
        "colab": {}
      },
      "source": [
        "#Split the data into 75% trainnig and 25% testing\n",
        "x_train, x_test, y_train, y_test = train_test_split(X, y, test_size = 0.25)"
      ],
      "execution_count": 31,
      "outputs": []
    },
    {
      "cell_type": "code",
      "metadata": {
        "id": "Rl_RRHYCWYIL",
        "colab_type": "code",
        "colab": {}
      },
      "source": [
        "#Create the models\n",
        "#Create the decision tree regressor model\n",
        "tree = DecisionTreeRegressor().fit(x_train, y_train)\n",
        "\n",
        "#Create the linear regression model\n",
        "lr = LinearRegression().fit(x_train, y_train)"
      ],
      "execution_count": 33,
      "outputs": []
    },
    {
      "cell_type": "code",
      "metadata": {
        "id": "YP1ZJiJfWmGj",
        "colab_type": "code",
        "colab": {
          "base_uri": "https://localhost:8080/",
          "height": 442
        },
        "outputId": "14729d75-bd19-4adc-f509-855449999462"
      },
      "source": [
        "#Get last x rows from the feature data set\n",
        "x_future = df.drop(['Prediction'], 1)[:-future_days]\n",
        "x_future = x_future.tail(future_days)\n",
        "x_future = np.array(x_future)\n",
        "x_future"
      ],
      "execution_count": 34,
      "outputs": [
        {
          "output_type": "execute_result",
          "data": {
            "text/plain": [
              "array([[421.970001],\n",
              "       [414.329987],\n",
              "       [419.600006],\n",
              "       [419.48999 ],\n",
              "       [434.049988],\n",
              "       [434.480011],\n",
              "       [425.559998],\n",
              "       [418.070007],\n",
              "       [425.5     ],\n",
              "       [436.130005],\n",
              "       [447.769989],\n",
              "       [449.869995],\n",
              "       [453.720001],\n",
              "       [468.040009],\n",
              "       [466.26001 ],\n",
              "       [457.850006],\n",
              "       [465.910004],\n",
              "       [443.399994],\n",
              "       [447.23999 ],\n",
              "       [455.040009],\n",
              "       [485.640015],\n",
              "       [476.890015],\n",
              "       [493.809998],\n",
              "       [493.160004],\n",
              "       [502.779999]])"
            ]
          },
          "metadata": {
            "tags": []
          },
          "execution_count": 34
        }
      ]
    },
    {
      "cell_type": "code",
      "metadata": {
        "id": "ljeQwMZ8XD9V",
        "colab_type": "code",
        "colab": {
          "base_uri": "https://localhost:8080/",
          "height": 204
        },
        "outputId": "81bcad2f-b375-455c-c461-c0f50eeba5e6"
      },
      "source": [
        "#Show the model tree prediction\n",
        "tree_prediction = tree.predict(x_future)\n",
        "print(tree_prediction)\n",
        "print()\n",
        "\n",
        "#Show the model linear regression prediction\n",
        "lr_prediction = lr.predict(x_future)\n",
        "print(lr_prediction)"
      ],
      "execution_count": 37,
      "outputs": [
        {
          "output_type": "stream",
          "text": [
            "[507.76001  548.72998  525.5      525.5      425.559998 527.390015\n",
            " 492.98999  525.5      490.100006 489.820007 477.579987 457.850006\n",
            " 495.649994 488.51001  484.480011 485.799988 488.880005 498.619995\n",
            " 509.640015 502.109985 509.079987 494.730011 483.380005 466.929993\n",
            " 477.708405]\n",
            "\n",
            "[444.3818405  436.4889108  441.93338898 441.819731   456.86172447\n",
            " 457.30598299 448.09068108 440.35274075 448.0286969  459.01059854\n",
            " 471.03591361 473.20543839 477.18289534 491.97695416 490.13802991\n",
            " 481.44962039 489.77643728 466.5212539  470.48836947 478.546601\n",
            " 510.15959233 501.11993155 518.60003517 517.92852372 527.86697989]\n"
          ],
          "name": "stdout"
        }
      ]
    },
    {
      "cell_type": "code",
      "metadata": {
        "id": "17j5UkyoXU-u",
        "colab_type": "code",
        "colab": {
          "base_uri": "https://localhost:8080/",
          "height": 615
        },
        "outputId": "46bafd5f-5ac9-49a4-bf43-9ff08c7f8d36"
      },
      "source": [
        "#Visualise the data\n",
        "predictions = tree_prediction\n",
        "valid = df[X.shape[0]:]\n",
        "valid['Predictions'] = predictions\n",
        "plt.figure(figsize=(16,8))\n",
        "plt.title('Model')\n",
        "plt.xlabel('Days')\n",
        "plt.ylabel('Close Price USD ($)')\n",
        "plt.plot(df['Close'])\n",
        "plt.plot(valid[['Close', 'Predictions']])\n",
        "plt.legend(['Orig', 'Val', 'Pred'])\n",
        "plt.show()"
      ],
      "execution_count": 41,
      "outputs": [
        {
          "output_type": "stream",
          "text": [
            "/usr/local/lib/python3.6/dist-packages/ipykernel_launcher.py:4: SettingWithCopyWarning: \n",
            "A value is trying to be set on a copy of a slice from a DataFrame.\n",
            "Try using .loc[row_indexer,col_indexer] = value instead\n",
            "\n",
            "See the caveats in the documentation: https://pandas.pydata.org/pandas-docs/stable/user_guide/indexing.html#returning-a-view-versus-a-copy\n",
            "  after removing the cwd from sys.path.\n"
          ],
          "name": "stderr"
        },
        {
          "output_type": "display_data",
          "data": {
            "image/png": "[encoded data removed]",
            "text/plain": [
              "<Figure size 1152x576 with 1 Axes>"
            ]
          },
          "metadata": {
            "tags": [],
            "needs_background": "light"
          }
        }
      ]
    },
    {
      "cell_type": "code",
      "metadata": {
        "id": "6JqqR_WVX_Wb",
        "colab_type": "code",
        "colab": {}
      },
      "source": [
        ""
      ],
      "execution_count": null,
      "outputs": []
    }
  ]
}