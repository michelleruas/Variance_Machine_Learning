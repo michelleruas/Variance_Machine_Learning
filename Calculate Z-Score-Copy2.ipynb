{
 "cells": [
  {
   "cell_type": "markdown",
   "metadata": {},
   "source": [
    "# Calculating Z-Score of Static Dataset"
   ]
  },
  {
   "cell_type": "markdown",
   "metadata": {},
   "source": [
    "## In order to build a model that will undertake unsupervised learning we need to :\n",
    "\n",
    "- Establish the metric it will use to classifies something as 'not normal'\n",
    "- Give it data to train the model"
   ]
  },
  {
   "cell_type": "code",
   "execution_count": 7,
   "metadata": {},
   "outputs": [],
   "source": [
    "import numpy as np\n",
    "import matplotlib.pyplot as plt\n",
    "%matplotlib inline\n",
    "\n",
    "\n",
    "variance_list = [0,1,2,100,2,0,0,5,100,40,23,1]\n",
    "dataset_length = len(variance_list)"
   ]
  },
  {
   "cell_type": "markdown",
   "metadata": {},
   "source": [
    "## Criteria to classify something as not normal\n",
    "\n",
    "An outlier can be a data point that falls outside of 3 standard deviations. We can use the z-score and if the z score falls outside of 2 then it is not normal.\n",
    "Another feature could be the values it has been before."
   ]
  },
  {
   "cell_type": "markdown",
   "metadata": {},
   "source": [
    "## Detecting Z score\n",
    "\n",
    "Formula z= (observation-mean)/standard_deviation\n",
    "\n",
    "X= (X-μ)/σ"
   ]
  },
  {
   "cell_type": "code",
   "execution_count": 14,
   "metadata": {},
   "outputs": [
    {
     "name": "stdout",
     "output_type": "stream",
     "text": [
      "[0, 1, 2, 100, 2, 0, 0, 5, 100, 40, 23, 1]\n",
      "[1, 1, 1, 1, 1, 1, 1, 1, 1, 1, 1, 1]\n",
      "[0, 0, 0, 0, 0, 0, 0, 0, 0, 0, 0, 0]\n",
      "2.1195000000000483\n",
      "[0, 0, 0, 0, 0, 0, 0, 0, 0, 0, 0, 0, 0]\n",
      "[0, 0, 0, 0, 0, 0, 0, 0, 0, 0, 0, 0, 0]\n",
      "2.1195000000000483\n",
      "[0, 1, 2, 100, 2, 0, 0, 5, 100, 40, 23, 1, 72]\n"
     ]
    }
   ],
   "source": [
    "dataset = variance_list\n",
    "a = 0\n",
    "new_value = [72]\n",
    "new_set = dataset + new_value\n",
    "print(dataset)\n",
    "\n",
    "\n",
    "def detect_outliers(data):\n",
    "    \n",
    "    outliers = []\n",
    "    threshold = a\n",
    "    mean = np.mean(data)\n",
    "    std = np.std(data)\n",
    "    \n",
    "    for i in data:\n",
    "        z_score = (i - mean)/std\n",
    "        if np.abs(z_score) < threshold:\n",
    "            outliers.append(0)\n",
    "        elif np.abs(z_score) > threshold:\n",
    "            outliers.append(1)\n",
    "    return outliers\n",
    "\n",
    "\n",
    "outlier_pt = detect_outliers(dataset)\n",
    "print(outlier_pt)\n",
    "while sum(outlier_pt) >= 1:\n",
    "        a = a + 0.0001\n",
    "        outlier_pt = detect_outliers(dataset)\n",
    "\n",
    "print(outlier_pt)\n",
    "print(a)\n",
    "\n",
    "dataset = new_set\n",
    "outlier_new = detect_outliers(new_set)\n",
    "print(outlier_new)\n",
    "while sum(outlier_new) >= 1:\n",
    "    a = a + 0.0001\n",
    "    outlier_new = detect_outliers(dataset)\n",
    "\n",
    "print(outlier_new)\n",
    "print(a)\n",
    "print(dataset)"
   ]
  },
  {
   "cell_type": "code",
   "execution_count": null,
   "metadata": {},
   "outputs": [],
   "source": []
  }
 ],
 "metadata": {
  "kernelspec": {
   "display_name": "Python 3",
   "language": "python",
   "name": "python3"
  },
  "language_info": {
   "codemirror_mode": {
    "name": "ipython",
    "version": 3
   },
   "file_extension": ".py",
   "mimetype": "text/x-python",
   "name": "python",
   "nbconvert_exporter": "python",
   "pygments_lexer": "ipython3",
   "version": "3.7.6"
  }
 },
 "nbformat": 4,
 "nbformat_minor": 4
}
